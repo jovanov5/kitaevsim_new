{
 "cells": [
  {
   "cell_type": "markdown",
   "metadata": {},
   "source": [
    "# The test of Coherences and Charge MMTs\n",
    "\n",
    "The IBM platform, via qiskit.\n",
    "\n",
    "Load the packages:"
   ]
  },
  {
   "cell_type": "code",
   "execution_count": 48,
   "metadata": {},
   "outputs": [
    {
     "data": {
      "text/html": [
       "<h3>Version Information</h3><table><tr><th>Qiskit Software</th><th>Version</th></tr><tr><td><code>qiskit-terra</code></td><td>0.21.2</td></tr><tr><td><code>qiskit-aer</code></td><td>0.11.0</td></tr><tr><td><code>qiskit-ibmq-provider</code></td><td>0.19.2</td></tr><tr><td><code>qiskit</code></td><td>0.38.0</td></tr><tr><th>System information</th></tr><tr><td>Python version</td><td>3.9.13</td></tr><tr><td>Python compiler</td><td>MSC v.1929 64 bit (AMD64)</td></tr><tr><td>Python build</td><td>main, May 27 2022 16:51:29</td></tr><tr><td>OS</td><td>Windows</td></tr><tr><td>CPUs</td><td>8</td></tr><tr><td>Memory (Gb)</td><td>23.718765258789062</td></tr><tr><td colspan='2'>Fri Sep 16 14:56:15 2022 GMT Summer Time</td></tr></table>"
      ],
      "text/plain": [
       "<IPython.core.display.HTML object>"
      ]
     },
     "metadata": {},
     "output_type": "display_data"
    }
   ],
   "source": [
    "from qiskit import IBMQ, transpile\n",
    "from qiskit import QuantumCircuit\n",
    "from qiskit.providers.aer import AerSimulator\n",
    "from qiskit.tools.visualization import plot_histogram\n",
    "from time import gmtime, strftime\n",
    "import qiskit.tools.jupyter\n",
    "%qiskit_version_table\n",
    "import numpy as np"
   ]
  },
  {
   "cell_type": "markdown",
   "metadata": {},
   "source": [
    "## Device Backend Noise Model\n",
    "\n",
    "The *Qiskit Aer* device noise model automatically generates a simplified noise model for a real device. This model is generated using the calibration information reported in the `BackendProperties` of a device and takes into account\n",
    "\n",
    "* The *gate_error* probability of each basis gate on each qubit.\n",
    "* The *gate_length* of each basis gate on each qubit.\n",
    "* The $T_1$, $T_2$ relaxation time constants of each qubit.\n",
    "* The readout error probability of each qubit.\n",
    "\n",
    "The backend import is as given below. See https://qiskit.org/documentation/apidoc/providers_fake_provider.html#fake-backends for more backend option. Aer does currently not support V2 backends, therefore, I chose a V1 backend of a 27 qubit machine (Mumbai)."
   ]
  },
  {
   "cell_type": "code",
   "execution_count": 49,
   "metadata": {
    "ExecuteTime": {
     "end_time": "2019-08-19T16:57:32.162207Z",
     "start_time": "2019-08-19T16:57:32.159466Z"
    }
   },
   "outputs": [],
   "source": [
    "from qiskit.providers.fake_provider import FakeMumbai\n",
    "\n",
    "# Get a fake backend from the fake provider\n",
    "backend = FakeMumbai()"
   ]
  },
  {
   "cell_type": "markdown",
   "metadata": {},
   "source": [
    "## Group Structure\n",
    "\n",
    "Group data needed for post-processing:"
   ]
  },
  {
   "cell_type": "code",
   "execution_count": 50,
   "metadata": {},
   "outputs": [],
   "source": [
    "R = np.array([[0, -1],[1, 0]])\n",
    "M = np.array([[1, 0],[0, -1]])\n",
    "G = np.zeros([2,2,8])\n",
    "G[:,:,0] = np.eye(2) # The D_4 group [via it's faithful 2d rep]\n",
    "G[:,:,1] = R\n",
    "G[:,:,2] = R@R\n",
    "G[:,:,3] = R@R@R\n",
    "G[:,:,4] = M\n",
    "G[:,:,5] = M@R\n",
    "G[:,:,6] = M@R@R\n",
    "G[:,:,7] = M@R@R@R\n",
    "g_lab = ['e','r','rr','rrr','m','mr','mrr','mrrr']\n",
    "order = len(g_lab)\n",
    "# Binary encoding: | M, R, RR> -> 8 element encoding needs to be translated in this formalism\n",
    "encode = {'000':0,'010':1, '001':2, '011':3, '100':4,'110':5, '101':6, '111':7}\n",
    "\n",
    "C_e = np.array([0])  # Conj Classes\n",
    "C_r = np.array([1,3])\n",
    "C_rr = np.array([2])\n",
    "C_m = np.array([4,6])\n",
    "C_mr = np.array([5,7])\n",
    "\n",
    "Z_e = np.array([0, 1, 2, 3, 4, 5, 6, 7])  # Centers Classes\n",
    "Z_r = np.array([0, 1, 2, 3])\n",
    "Z_rr = np.array([0, 1, 2, 3, 4, 5, 6, 7])\n",
    "Z_m = np.array([0, 2, 4, 6])\n",
    "Z_mr = np.array([0, 2, 5, 7])"
   ]
  },
  {
   "cell_type": "markdown",
   "metadata": {},
   "source": [
    "Function to query the group structure:"
   ]
  },
  {
   "cell_type": "code",
   "execution_count": 51,
   "metadata": {},
   "outputs": [],
   "source": [
    "def dag(M):\n",
    "    return np.conjugate(M.T)\n",
    "def matInv(M):\n",
    "    return np.linalg.inv(M)\n",
    "def is_eq(A,B):\n",
    "    return np.array_equal(A,B)\n",
    "\n",
    "def q(c):\n",
    "    Q_C = [0, 0, 0, 4, 0, 0, 3, 3] # This for q_c instead : Coset Representatives\n",
    "    return Q_C[c]\n",
    "\n",
    "def grp(x):\n",
    "    return G[:,:,x] # USE G AS A GLOBAL VAR!!! ---- CAREFUL !\n",
    "\n",
    "\n",
    "def grp_i(i):\n",
    "    return matInv(G[:,:,i])\n",
    "\n",
    "def index(h):\n",
    "    for i in range(8): # to be generalised\n",
    "        if np.array_equal(h, G[:,:,i]):\n",
    "            return i\n",
    "\n",
    "def inv(x):\n",
    "    for i in range(8): # to be generalised\n",
    "        if np.array_equal(matInv(G[:,:,x]), G[:,:,i]):\n",
    "            return i"
   ]
  },
  {
   "cell_type": "markdown",
   "metadata": {
    "jp-MarkdownHeadingCollapsed": true,
    "tags": []
   },
   "source": [
    "# Implement Circuit on 27 qubit machine\n",
    "\n"
   ]
  },
  {
   "cell_type": "code",
   "execution_count": 52,
   "metadata": {},
   "outputs": [],
   "source": [
    "# Mapping the old layout to the qubits of the IBM machine\n",
    "\n",
    "g0=0\n",
    "g1=1\n",
    "g2=2\n",
    "g3=3\n",
    "g4=4\n",
    "g5=5\n",
    "g6=6\n",
    "g7=7\n",
    "g8=8\n",
    "g9=9\n",
    "g10=10\n",
    "g11=11\n",
    "g12=12\n",
    "g13=13\n",
    "g14=14\n",
    "g15=15\n",
    "g16=16\n",
    "g17=17\n",
    "g18=18\n",
    "g19=19\n",
    "g20=20\n",
    "g21=21\n",
    "g22=22\n",
    "g23=23\n",
    "g24=24\n",
    "g25=25\n",
    "g26=26\n",
    "\n",
    "Qbits=[g0,g1,g2,g3,g4,g5,g6,g7,g8,g9,g10,g11,g12,g13,g14,g15,g16,g17,g18,g19,g20,g21,g22,g23,g24,g25,g26]"
   ]
  },
  {
   "cell_type": "markdown",
   "metadata": {},
   "source": [
    "## Coding Part:"
   ]
  },
  {
   "cell_type": "markdown",
   "metadata": {},
   "source": [
    "### Ground state preparation\n",
    "\n",
    "Prepare a ground state on an elementary 2 leg plaquette, with charge measuremnt ancillas that makes it 8 qubits."
   ]
  },
  {
   "cell_type": "code",
   "execution_count": 53,
   "metadata": {},
   "outputs": [
    {
     "data": {
      "text/plain": [
       "<qiskit.circuit.instructionset.InstructionSet at 0x1ba7262ae80>"
      ]
     },
     "execution_count": 53,
     "metadata": {},
     "output_type": "execute_result"
    }
   ],
   "source": [
    "# Init the qubits and bits\n",
    "circ = QuantumCircuit(8,8)\n",
    "\n",
    "# Prep the GS\n",
    "circ.h(g0)\n",
    "circ.h(g1)\n",
    "circ.h(g2)\n",
    "    \n",
    "circ.cx(g0,g3)\n",
    "circ.cx(g1,g4)\n",
    "circ.cx(g2,g5)"
   ]
  },
  {
   "cell_type": "markdown",
   "metadata": {},
   "source": [
    "### Performing the ({e, m, rr, mrr} subgroup) charge measurement"
   ]
  },
  {
   "cell_type": "code",
   "execution_count": 54,
   "metadata": {},
   "outputs": [
    {
     "data": {
      "text/plain": [
       "<qiskit.circuit.instructionset.InstructionSet at 0x1ba726254f0>"
      ]
     },
     "execution_count": 54,
     "metadata": {},
     "output_type": "execute_result"
    }
   ],
   "source": [
    "circ.h(g6)\n",
    "circ.h(g7)\n",
    "\n",
    "circ.cx(g6, g3)\n",
    "circ.cx(g7, g5)\n",
    "circ.cx(g6, g0)\n",
    "circ.cx(g7, g2)\n",
    "\n",
    "circ.h(g6)\n",
    "circ.h(g7)\n",
    "\n",
    "measurebits= 8\n",
    "circ.measure(Qbits[:8], reversed(range(measurebits)))\n"
   ]
  },
  {
   "cell_type": "markdown",
   "metadata": {},
   "source": [
    "## Simulation"
   ]
  },
  {
   "cell_type": "code",
   "execution_count": 55,
   "metadata": {},
   "outputs": [],
   "source": [
    "sim_ideal = AerSimulator()\n",
    "\n",
    "num_of_shots = 1000\n",
    "result = sim_ideal.run(transpile(circ, sim_ideal), shots= num_of_shots).result()\n",
    "counts = result.get_counts(0)"
   ]
  },
  {
   "cell_type": "code",
   "execution_count": 56,
   "metadata": {},
   "outputs": [
    {
     "data": {
      "text/plain": [
       "{'01101100': 118,\n",
       " '11111100': 141,\n",
       " '10110100': 129,\n",
       " '00100100': 120,\n",
       " '01001000': 130,\n",
       " '11011000': 108,\n",
       " '10010000': 130,\n",
       " '00000000': 124}"
      ]
     },
     "execution_count": 56,
     "metadata": {},
     "output_type": "execute_result"
    }
   ],
   "source": [
    "counts"
   ]
  },
  {
   "cell_type": "markdown",
   "metadata": {},
   "source": [
    "### Generating a simulator that mimics a device\n",
    "\n",
    "We call `from_backend` to create a simulator for `ibmq_mumbai`:"
   ]
  },
  {
   "cell_type": "markdown",
   "metadata": {},
   "source": [
    "By storing the device properties in `simulator`, we ensure that the appropriate basis gates and coupling map are used when compiling circuits for simulation, thereby most closely mimicking the gates that will be executed on a real device. In addition `simulator` contains an approximate noise model consisting of:\n",
    "\n",
    "* **Single-qubit gate errors** consisting of a single qubit depolarizing error followed by a single qubit thermal relaxation error.\n",
    "* **Two-qubit gate errors** consisting of a two-qubit depolarizing error followed by single-qubit thermal relaxation errors on both qubits in the gate.\n",
    "* **Single-qubit readout errors** on the classical bit value obtained from measurements on individual qubits.\n",
    "\n",
    "For the gate errors the error parameter of the thermal relaxation errors is derived using the `thermal_relaxation_error` function from `aer.noise.errors` module, along with the individual qubit $T_1$ and $T_2$ parameters, and the `gate_time` parameter from the device backend properties. The probability of the depolarizing error is then set so that the combined average gate infidelity from the depolarizing error followed by the thermal relaxation is equal to the `gate_error` value from the backend properties.\n",
    "\n",
    "For the readout errors the probability that the recorded classical bit value will be flipped from the true outcome after a measurement is given by the qubit `readout_errors`."
   ]
  },
  {
   "cell_type": "markdown",
   "metadata": {},
   "source": [
    "#### Running a noise simulation\n",
    "\n",
    "Once we have created a noisy simulator backend based on a real device we can use it to run noisy simulations.\n",
    "\n",
    "**Important:** When running noisy simulations it is *critical* to `transpile` the circuit for the backend so that the circuit is transpiled to the correct noisy basis gate set for the backend."
   ]
  },
  {
   "cell_type": "code",
   "execution_count": 57,
   "metadata": {},
   "outputs": [
    {
     "name": "stdout",
     "output_type": "stream",
     "text": [
      "22\n"
     ]
    }
   ],
   "source": [
    "sim = AerSimulator.from_backend(backend)\n",
    "\n",
    "num_of_trans_att = 100\n",
    "tcirc = transpile(circ, sim)\n",
    "depth = tcirc.depth()\n",
    "for i in range(num_of_trans_att):\n",
    "    ttest = transpile(circ, sim)\n",
    "    if ttest.depth()<=depth:\n",
    "        tcirc = ttest\n",
    "        depth = ttest.depth()\n",
    "print(depth)\n"
   ]
  },
  {
   "cell_type": "code",
   "execution_count": 58,
   "metadata": {},
   "outputs": [],
   "source": [
    "num_of_shots = 20000\n",
    "result_noise = sim.run(tcirc,shots=num_of_shots).result()\n",
    "counts_noise = result_noise.get_counts(0)"
   ]
  },
  {
   "cell_type": "code",
   "execution_count": 59,
   "metadata": {},
   "outputs": [
    {
     "data": {
      "text/plain": [
       "{'01101100': 118,\n",
       " '11111100': 141,\n",
       " '10110100': 129,\n",
       " '00100100': 120,\n",
       " '01001000': 130,\n",
       " '11011000': 108,\n",
       " '10010000': 130,\n",
       " '00000000': 124}"
      ]
     },
     "execution_count": 59,
     "metadata": {},
     "output_type": "execute_result"
    }
   ],
   "source": [
    "counts"
   ]
  },
  {
   "cell_type": "code",
   "execution_count": 60,
   "metadata": {},
   "outputs": [
    {
     "name": "stdout",
     "output_type": "stream",
     "text": [
      "[[14250.  1849.]\n",
      " [ 3110.   791.]]\n"
     ]
    }
   ],
   "source": [
    "table_of_charges = np.zeros([2,2])\n",
    "# columns no charge, charge\n",
    "# rows no flux, flux\n",
    "for key, value in counts_noise.items():\n",
    "    g_1 = encode[key[0:3]]\n",
    "    g_2 = encode[key[3:6]]\n",
    "    flux = index(grp(g_2)@grp_i(g_1))\n",
    "    if key[6:] == '00':\n",
    "        if flux == 0:\n",
    "            table_of_charges[0,0]+=value\n",
    "        else:\n",
    "            table_of_charges[1,0]+=value\n",
    "    else:\n",
    "        if flux == 0:\n",
    "            table_of_charges[0,1]+=value\n",
    "        else:\n",
    "            table_of_charges[1,1]+=value\n",
    "\n",
    "        \n",
    "print(table_of_charges)"
   ]
  },
  {
   "cell_type": "code",
   "execution_count": 61,
   "metadata": {},
   "outputs": [
    {
     "name": "stdout",
     "output_type": "stream",
     "text": [
      "[[14250   537   922   484  1031    31    66    39]\n",
      " [  841    50   164    48    64     1    12     2]\n",
      " [  954    37    82    35   221     6    20    10]\n",
      " [   54     4    10     1    18     0     3     3]]\n"
     ]
    }
   ],
   "source": [
    "full_table = np.zeros([4,8], dtype=int)\n",
    "for key, value in counts_noise.items():\n",
    "    g_1 = encode[key[0:3]]\n",
    "    g_2 = encode[key[3:6]]\n",
    "    flux = index(grp(g_2)@grp_i(g_1))\n",
    "    charge = int(key[6:],2)\n",
    "    full_table[charge, flux] += value\n",
    "print(full_table)"
   ]
  },
  {
   "cell_type": "code",
   "execution_count": 62,
   "metadata": {},
   "outputs": [
    {
     "data": {
      "image/png": "[encoded data removed]",
      "text/plain": [
       "<Figure size 500x500 with 1 Axes>"
      ]
     },
     "execution_count": 62,
     "metadata": {},
     "output_type": "execute_result"
    }
   ],
   "source": [
    "qiskit.visualization.plot_circuit_layout(tcirc,backend)"
   ]
  },
  {
   "cell_type": "code",
   "execution_count": 63,
   "metadata": {},
   "outputs": [
    {
     "data": {
      "text/html": [
       "<pre style=\"word-wrap: normal;white-space: pre;background: #fff0;line-height: 1.1;font-family: &quot;Courier New&quot;,Courier,monospace\">global phase: 7π/4\n",
       "                                                                           »\n",
       "  ancilla_0 -> 0 ──────────────────────────────────────────────────────────»\n",
       "                                                                           »\n",
       "  ancilla_1 -> 1 ──────────────────────────────────────────────────────────»\n",
       "                                                                           »\n",
       "  ancilla_2 -> 2 ──────────────────────────────────────────────────────────»\n",
       "                                                                           »\n",
       "  ancilla_3 -> 3 ──────────────────────────────────────────────────────────»\n",
       "                                                                           »\n",
       "  ancilla_4 -> 4 ──────────────────────────────────────────────────────────»\n",
       "                                                                           »\n",
       "  ancilla_5 -> 5 ──────────────────────────────────────────────────────────»\n",
       "                                                                           »\n",
       "  ancilla_6 -> 6 ──────────────────────────────────────────────────────────»\n",
       "                                                                           »\n",
       "  ancilla_7 -> 7 ──────────────────────────────────────────────────────────»\n",
       "                                                                           »\n",
       "  ancilla_8 -> 8 ──────────────────────────────────────────────────────────»\n",
       "                                                                           »\n",
       "  ancilla_9 -> 9 ──────────────────────────────────────────────────────────»\n",
       "                                                                           »\n",
       "ancilla_10 -> 10 ──────────────────────────────────────────────────────────»\n",
       "                                                                           »\n",
       "ancilla_11 -> 11 ──────────────────────────────────────────────────────────»\n",
       "                                                                           »\n",
       "ancilla_12 -> 12 ──────────────────────────────────────────────────────────»\n",
       "                                                                           »\n",
       "ancilla_13 -> 13 ──────────────────────────────────────────────────────────»\n",
       "                                                                           »\n",
       "ancilla_14 -> 14 ──────────────────────────────────────────────────────────»\n",
       "                                                                           »\n",
       "ancilla_15 -> 15 ──────────────────────────────────────────────────────────»\n",
       "                                                                           »\n",
       "ancilla_16 -> 16 ──────────────────────────────────────────────────────────»\n",
       "                                                                           »\n",
       "ancilla_17 -> 17 ──────────────────────────────────────────────────────────»\n",
       "                 ┌─────────┐┌────┐┌─────────┐                              »\n",
       "       q_0 -> 18 ┤ Rz(π/2) ├┤ √X ├┤ Rz(π/2) ├─────────────────■────────────»\n",
       "                 ├─────────┤├────┤├─────────┤                 │            »\n",
       "       q_2 -> 19 ┤ Rz(π/2) ├┤ √X ├┤ Rz(π/2) ├─────────────────┼────────────»\n",
       "                 └─────────┘└────┘└─────────┘                 │            »\n",
       "ancilla_18 -> 20 ─────────────────────────────────────────────┼────────────»\n",
       "                 ┌─────────┐┌────┐┌─────────┐     ┌───┐     ┌─┴─┐          »\n",
       "       q_1 -> 21 ┤ Rz(π/2) ├┤ √X ├┤ Rz(π/2) ├──■──┤ X ├──■──┤ X ├──────────»\n",
       "                 └─────────┘└────┘└─────────┘  │  └─┬─┘  │  └───┘          »\n",
       "       q_4 -> 22 ──────────────────────────────┼────┼────┼────■────────────»\n",
       "                                             ┌─┴─┐  │  ┌─┴─┐  │       ┌───┐»\n",
       "       q_3 -> 23 ────────────────────────────┤ X ├──■──┤ X ├──┼────■──┤ X ├»\n",
       "                                             └───┘┌───┐└───┘  │  ┌─┴─┐└─┬─┘»\n",
       "       q_5 -> 24 ──────────────────────────────■──┤ X ├──■────┼──┤ X ├──■──»\n",
       "                 ┌─────────┐┌────┐┌─────────┐┌─┴─┐└─┬─┘┌─┴─┐┌─┴─┐└───┘     »\n",
       "       q_6 -> 25 ┤ Rz(π/2) ├┤ √X ├┤ Rz(π/2) ├┤ X ├──■──┤ X ├┤ X ├──────────»\n",
       "                 ├─────────┤├────┤├─────────┤└───┘     └───┘└───┘          »\n",
       "       q_7 -> 26 ┤ Rz(π/2) ├┤ √X ├┤ Rz(π/2) ├──────────────────────────────»\n",
       "                 └─────────┘└────┘└─────────┘                              »\n",
       "            c: 8/══════════════════════════════════════════════════════════»\n",
       "                                                                           »\n",
       "«                                                                              »\n",
       "«  ancilla_0 -> 0 ─────────────────────────────────────────────────────────────»\n",
       "«                                                                              »\n",
       "«  ancilla_1 -> 1 ─────────────────────────────────────────────────────────────»\n",
       "«                                                                              »\n",
       "«  ancilla_2 -> 2 ─────────────────────────────────────────────────────────────»\n",
       "«                                                                              »\n",
       "«  ancilla_3 -> 3 ─────────────────────────────────────────────────────────────»\n",
       "«                                                                              »\n",
       "«  ancilla_4 -> 4 ─────────────────────────────────────────────────────────────»\n",
       "«                                                                              »\n",
       "«  ancilla_5 -> 5 ─────────────────────────────────────────────────────────────»\n",
       "«                                                                              »\n",
       "«  ancilla_6 -> 6 ─────────────────────────────────────────────────────────────»\n",
       "«                                                                              »\n",
       "«  ancilla_7 -> 7 ─────────────────────────────────────────────────────────────»\n",
       "«                                                                              »\n",
       "«  ancilla_8 -> 8 ─────────────────────────────────────────────────────────────»\n",
       "«                                                                              »\n",
       "«  ancilla_9 -> 9 ─────────────────────────────────────────────────────────────»\n",
       "«                                                                              »\n",
       "«ancilla_10 -> 10 ─────────────────────────────────────────────────────────────»\n",
       "«                                                                              »\n",
       "«ancilla_11 -> 11 ─────────────────────────────────────────────────────────────»\n",
       "«                                                                              »\n",
       "«ancilla_12 -> 12 ─────────────────────────────────────────────────────────────»\n",
       "«                                                                              »\n",
       "«ancilla_13 -> 13 ─────────────────────────────────────────────────────────────»\n",
       "«                                                                              »\n",
       "«ancilla_14 -> 14 ─────────────────────────────────────────────────────────────»\n",
       "«                                                                              »\n",
       "«ancilla_15 -> 15 ─────────────────────────────────────────────────────────────»\n",
       "«                                                                              »\n",
       "«ancilla_16 -> 16 ─────────────────────────────────────────────────────────────»\n",
       "«                                                                              »\n",
       "«ancilla_17 -> 17 ─────────────────────────────────────────────────────────────»\n",
       "«                                                         ┌───┐                »\n",
       "«       q_0 -> 18 ────────────────────────────────────────┤ X ├────────────────»\n",
       "«                                                         └─┬─┘                »\n",
       "«       q_2 -> 19 ──────────────────────■───────────────────┼───────────────■──»\n",
       "«                                       │                   │               │  »\n",
       "«ancilla_18 -> 20 ──────────────────────┼───────────────────┼───────────────┼──»\n",
       "«                                ┌───┐  │       ┌───┐       │  ┌─────────┐  │  »\n",
       "«       q_1 -> 21 ───────────────┤ X ├──┼────■──┤ X ├──■────■──┤ Rz(π/2) ├──┼──»\n",
       "«                 ┌───┐          └─┬─┘┌─┴─┐  │  └─┬─┘  │  ┌───┐└─────────┘┌─┴─┐»\n",
       "«       q_4 -> 22 ┤ X ├───────■────┼──┤ X ├──┼────┼────┼──┤ X ├───────────┤ X ├»\n",
       "«                 └─┬─┘       │    │  └───┘┌─┴─┐  │  ┌─┴─┐└─┬─┘           └───┘»\n",
       "«       q_3 -> 23 ──┼────■────┼────■───────┤ X ├──■──┤ X ├──┼──────────────────»\n",
       "«                   │  ┌─┴─┐  │            └───┘     └───┘  │                  »\n",
       "«       q_5 -> 24 ──┼──┤ X ├──┼────■────────────────────────┼──────────────────»\n",
       "«                   │  └───┘┌─┴─┐┌─┴─┐     ┌───┐            │                  »\n",
       "«       q_6 -> 25 ──■───────┤ X ├┤ X ├──■──┤ X ├──■─────────■──────────────────»\n",
       "«                           └───┘└───┘┌─┴─┐└─┬─┘┌─┴─┐                          »\n",
       "«       q_7 -> 26 ────────────────────┤ X ├──■──┤ X ├──────────────────────────»\n",
       "«                                     └───┘     └───┘                          »\n",
       "«            c: 8/═════════════════════════════════════════════════════════════»\n",
       "«                                                                              »\n",
       "«                                                                             »\n",
       "«  ancilla_0 -> 0 ────────────────────────────────────────────────────────────»\n",
       "«                                                                             »\n",
       "«  ancilla_1 -> 1 ────────────────────────────────────────────────────────────»\n",
       "«                                                                             »\n",
       "«  ancilla_2 -> 2 ────────────────────────────────────────────────────────────»\n",
       "«                                                                             »\n",
       "«  ancilla_3 -> 3 ────────────────────────────────────────────────────────────»\n",
       "«                                                                             »\n",
       "«  ancilla_4 -> 4 ────────────────────────────────────────────────────────────»\n",
       "«                                                                             »\n",
       "«  ancilla_5 -> 5 ────────────────────────────────────────────────────────────»\n",
       "«                                                                             »\n",
       "«  ancilla_6 -> 6 ────────────────────────────────────────────────────────────»\n",
       "«                                                                             »\n",
       "«  ancilla_7 -> 7 ────────────────────────────────────────────────────────────»\n",
       "«                                                                             »\n",
       "«  ancilla_8 -> 8 ────────────────────────────────────────────────────────────»\n",
       "«                                                                             »\n",
       "«  ancilla_9 -> 9 ────────────────────────────────────────────────────────────»\n",
       "«                                                                             »\n",
       "«ancilla_10 -> 10 ────────────────────────────────────────────────────────────»\n",
       "«                                                                             »\n",
       "«ancilla_11 -> 11 ────────────────────────────────────────────────────────────»\n",
       "«                                                                             »\n",
       "«ancilla_12 -> 12 ────────────────────────────────────────────────────────────»\n",
       "«                                                                             »\n",
       "«ancilla_13 -> 13 ────────────────────────────────────────────────────────────»\n",
       "«                                                                             »\n",
       "«ancilla_14 -> 14 ────────────────────────────────────────────────────────────»\n",
       "«                                                                             »\n",
       "«ancilla_15 -> 15 ────────────────────────────────────────────────────────────»\n",
       "«                                                                             »\n",
       "«ancilla_16 -> 16 ────────────────────────────────────────────────────────────»\n",
       "«                                                                             »\n",
       "«ancilla_17 -> 17 ────────────────────────────────────────────────────────────»\n",
       "«                                                                             »\n",
       "«       q_0 -> 18 ────────────────────────────────────────────────────────────»\n",
       "«                       ┌───┐                                                 »\n",
       "«       q_2 -> 19 ──────┤ X ├─────────────■───────────────────────────────────»\n",
       "«                       └─┬─┘             │                                   »\n",
       "«ancilla_18 -> 20 ────────┼───────────────┼───────────────────────────────────»\n",
       "«                 ┌────┐  │  ┌─────────┐  │                                   »\n",
       "«       q_1 -> 21 ┤ √X ├──┼──┤ Rz(π/2) ├──┼───────────────────────────────────»\n",
       "«                 └────┘  │  └─────────┘┌─┴─┐┌───┐                            »\n",
       "«       q_4 -> 22 ────────■─────────────┤ X ├┤ X ├────────────────────────────»\n",
       "«                                       └───┘└─┬─┘                            »\n",
       "«       q_3 -> 23 ─────────────────────────────┼──────────────────────────────»\n",
       "«                                              │                              »\n",
       "«       q_5 -> 24 ─────────────────────────────┼──────────────────────────────»\n",
       "«                                              │  ┌─────────┐┌────┐┌─────────┐»\n",
       "«       q_6 -> 25 ─────────────────────────────■──┤ Rz(π/2) ├┤ √X ├┤ Rz(π/2) ├»\n",
       "«                                                 └─────────┘└────┘└─────────┘»\n",
       "«       q_7 -> 26 ────────────────────────────────────────────────────────────»\n",
       "«                                                                             »\n",
       "«            c: 8/════════════════════════════════════════════════════════════»\n",
       "«                                                                             »\n",
       "«                  ░                         \n",
       "«  ancilla_0 -> 0 ─░─────────────────────────\n",
       "«                  ░                         \n",
       "«  ancilla_1 -> 1 ─░─────────────────────────\n",
       "«                  ░                         \n",
       "«  ancilla_2 -> 2 ─░─────────────────────────\n",
       "«                  ░                         \n",
       "«  ancilla_3 -> 3 ─░─────────────────────────\n",
       "«                  ░                         \n",
       "«  ancilla_4 -> 4 ─░─────────────────────────\n",
       "«                  ░                         \n",
       "«  ancilla_5 -> 5 ─░─────────────────────────\n",
       "«                  ░                         \n",
       "«  ancilla_6 -> 6 ─░─────────────────────────\n",
       "«                  ░                         \n",
       "«  ancilla_7 -> 7 ─░─────────────────────────\n",
       "«                  ░                         \n",
       "«  ancilla_8 -> 8 ─░─────────────────────────\n",
       "«                  ░                         \n",
       "«  ancilla_9 -> 9 ─░─────────────────────────\n",
       "«                  ░                         \n",
       "«ancilla_10 -> 10 ─░─────────────────────────\n",
       "«                  ░                         \n",
       "«ancilla_11 -> 11 ─░─────────────────────────\n",
       "«                  ░                         \n",
       "«ancilla_12 -> 12 ─░─────────────────────────\n",
       "«                  ░                         \n",
       "«ancilla_13 -> 13 ─░─────────────────────────\n",
       "«                  ░                         \n",
       "«ancilla_14 -> 14 ─░─────────────────────────\n",
       "«                  ░                         \n",
       "«ancilla_15 -> 15 ─░─────────────────────────\n",
       "«                  ░                         \n",
       "«ancilla_16 -> 16 ─░─────────────────────────\n",
       "«                  ░                         \n",
       "«ancilla_17 -> 17 ─░─────────────────────────\n",
       "«                  ░                      ┌─┐\n",
       "«       q_0 -> 18 ─░──────────────────────┤M├\n",
       "«                  ░       ┌─┐            └╥┘\n",
       "«       q_2 -> 19 ─░───────┤M├─────────────╫─\n",
       "«                  ░       └╥┘             ║ \n",
       "«ancilla_18 -> 20 ─░────────╫──────────────╫─\n",
       "«                  ░    ┌─┐ ║              ║ \n",
       "«       q_1 -> 21 ─░────┤M├─╫──────────────╫─\n",
       "«                  ░    └╥┘ ║       ┌─┐    ║ \n",
       "«       q_4 -> 22 ─░─────╫──╫───────┤M├────╫─\n",
       "«                  ░     ║  ║    ┌─┐└╥┘    ║ \n",
       "«       q_3 -> 23 ─░─────╫──╫────┤M├─╫─────╫─\n",
       "«                  ░     ║  ║    └╥┘ ║ ┌─┐ ║ \n",
       "«       q_5 -> 24 ─░─────╫──╫─────╫──╫─┤M├─╫─\n",
       "«                  ░ ┌─┐ ║  ║     ║  ║ └╥┘ ║ \n",
       "«       q_6 -> 25 ─░─┤M├─╫──╫─────╫──╫──╫──╫─\n",
       "«                  ░ └╥┘ ║  ║ ┌─┐ ║  ║  ║  ║ \n",
       "«       q_7 -> 26 ─░──╫──╫──╫─┤M├─╫──╫──╫──╫─\n",
       "«                  ░  ║  ║  ║ └╥┘ ║  ║  ║  ║ \n",
       "«            c: 8/════╩══╩══╩══╩══╩══╩══╩══╩═\n",
       "«                     0  1  2  3  4  5  6  7 </pre>"
      ],
      "text/plain": [
       "global phase: 7π/4\n",
       "                                                                           »\n",
       "  ancilla_0 -> 0 ──────────────────────────────────────────────────────────»\n",
       "                                                                           »\n",
       "  ancilla_1 -> 1 ──────────────────────────────────────────────────────────»\n",
       "                                                                           »\n",
       "  ancilla_2 -> 2 ──────────────────────────────────────────────────────────»\n",
       "                                                                           »\n",
       "  ancilla_3 -> 3 ──────────────────────────────────────────────────────────»\n",
       "                                                                           »\n",
       "  ancilla_4 -> 4 ──────────────────────────────────────────────────────────»\n",
       "                                                                           »\n",
       "  ancilla_5 -> 5 ──────────────────────────────────────────────────────────»\n",
       "                                                                           »\n",
       "  ancilla_6 -> 6 ──────────────────────────────────────────────────────────»\n",
       "                                                                           »\n",
       "  ancilla_7 -> 7 ──────────────────────────────────────────────────────────»\n",
       "                                                                           »\n",
       "  ancilla_8 -> 8 ──────────────────────────────────────────────────────────»\n",
       "                                                                           »\n",
       "  ancilla_9 -> 9 ──────────────────────────────────────────────────────────»\n",
       "                                                                           »\n",
       "ancilla_10 -> 10 ──────────────────────────────────────────────────────────»\n",
       "                                                                           »\n",
       "ancilla_11 -> 11 ──────────────────────────────────────────────────────────»\n",
       "                                                                           »\n",
       "ancilla_12 -> 12 ──────────────────────────────────────────────────────────»\n",
       "                                                                           »\n",
       "ancilla_13 -> 13 ──────────────────────────────────────────────────────────»\n",
       "                                                                           »\n",
       "ancilla_14 -> 14 ──────────────────────────────────────────────────────────»\n",
       "                                                                           »\n",
       "ancilla_15 -> 15 ──────────────────────────────────────────────────────────»\n",
       "                                                                           »\n",
       "ancilla_16 -> 16 ──────────────────────────────────────────────────────────»\n",
       "                                                                           »\n",
       "ancilla_17 -> 17 ──────────────────────────────────────────────────────────»\n",
       "                 ┌─────────┐┌────┐┌─────────┐                              »\n",
       "       q_0 -> 18 ┤ Rz(π/2) ├┤ √X ├┤ Rz(π/2) ├─────────────────■────────────»\n",
       "                 ├─────────┤├────┤├─────────┤                 │            »\n",
       "       q_2 -> 19 ┤ Rz(π/2) ├┤ √X ├┤ Rz(π/2) ├─────────────────┼────────────»\n",
       "                 └─────────┘└────┘└─────────┘                 │            »\n",
       "ancilla_18 -> 20 ─────────────────────────────────────────────┼────────────»\n",
       "                 ┌─────────┐┌────┐┌─────────┐     ┌───┐     ┌─┴─┐          »\n",
       "       q_1 -> 21 ┤ Rz(π/2) ├┤ √X ├┤ Rz(π/2) ├──■──┤ X ├──■──┤ X ├──────────»\n",
       "                 └─────────┘└────┘└─────────┘  │  └─┬─┘  │  └───┘          »\n",
       "       q_4 -> 22 ──────────────────────────────┼────┼────┼────■────────────»\n",
       "                                             ┌─┴─┐  │  ┌─┴─┐  │       ┌───┐»\n",
       "       q_3 -> 23 ────────────────────────────┤ X ├──■──┤ X ├──┼────■──┤ X ├»\n",
       "                                             └───┘┌───┐└───┘  │  ┌─┴─┐└─┬─┘»\n",
       "       q_5 -> 24 ──────────────────────────────■──┤ X ├──■────┼──┤ X ├──■──»\n",
       "                 ┌─────────┐┌────┐┌─────────┐┌─┴─┐└─┬─┘┌─┴─┐┌─┴─┐└───┘     »\n",
       "       q_6 -> 25 ┤ Rz(π/2) ├┤ √X ├┤ Rz(π/2) ├┤ X ├──■──┤ X ├┤ X ├──────────»\n",
       "                 ├─────────┤├────┤├─────────┤└───┘     └───┘└───┘          »\n",
       "       q_7 -> 26 ┤ Rz(π/2) ├┤ √X ├┤ Rz(π/2) ├──────────────────────────────»\n",
       "                 └─────────┘└────┘└─────────┘                              »\n",
       "            c: 8/══════════════════════════════════════════════════════════»\n",
       "                                                                           »\n",
       "«                                                                              »\n",
       "«  ancilla_0 -> 0 ─────────────────────────────────────────────────────────────»\n",
       "«                                                                              »\n",
       "«  ancilla_1 -> 1 ─────────────────────────────────────────────────────────────»\n",
       "«                                                                              »\n",
       "«  ancilla_2 -> 2 ─────────────────────────────────────────────────────────────»\n",
       "«                                                                              »\n",
       "«  ancilla_3 -> 3 ─────────────────────────────────────────────────────────────»\n",
       "«                                                                              »\n",
       "«  ancilla_4 -> 4 ─────────────────────────────────────────────────────────────»\n",
       "«                                                                              »\n",
       "«  ancilla_5 -> 5 ─────────────────────────────────────────────────────────────»\n",
       "«                                                                              »\n",
       "«  ancilla_6 -> 6 ─────────────────────────────────────────────────────────────»\n",
       "«                                                                              »\n",
       "«  ancilla_7 -> 7 ─────────────────────────────────────────────────────────────»\n",
       "«                                                                              »\n",
       "«  ancilla_8 -> 8 ─────────────────────────────────────────────────────────────»\n",
       "«                                                                              »\n",
       "«  ancilla_9 -> 9 ─────────────────────────────────────────────────────────────»\n",
       "«                                                                              »\n",
       "«ancilla_10 -> 10 ─────────────────────────────────────────────────────────────»\n",
       "«                                                                              »\n",
       "«ancilla_11 -> 11 ─────────────────────────────────────────────────────────────»\n",
       "«                                                                              »\n",
       "«ancilla_12 -> 12 ─────────────────────────────────────────────────────────────»\n",
       "«                                                                              »\n",
       "«ancilla_13 -> 13 ─────────────────────────────────────────────────────────────»\n",
       "«                                                                              »\n",
       "«ancilla_14 -> 14 ─────────────────────────────────────────────────────────────»\n",
       "«                                                                              »\n",
       "«ancilla_15 -> 15 ─────────────────────────────────────────────────────────────»\n",
       "«                                                                              »\n",
       "«ancilla_16 -> 16 ─────────────────────────────────────────────────────────────»\n",
       "«                                                                              »\n",
       "«ancilla_17 -> 17 ─────────────────────────────────────────────────────────────»\n",
       "«                                                         ┌───┐                »\n",
       "«       q_0 -> 18 ────────────────────────────────────────┤ X ├────────────────»\n",
       "«                                                         └─┬─┘                »\n",
       "«       q_2 -> 19 ──────────────────────■───────────────────┼───────────────■──»\n",
       "«                                       │                   │               │  »\n",
       "«ancilla_18 -> 20 ──────────────────────┼───────────────────┼───────────────┼──»\n",
       "«                                ┌───┐  │       ┌───┐       │  ┌─────────┐  │  »\n",
       "«       q_1 -> 21 ───────────────┤ X ├──┼────■──┤ X ├──■────■──┤ Rz(π/2) ├──┼──»\n",
       "«                 ┌───┐          └─┬─┘┌─┴─┐  │  └─┬─┘  │  ┌───┐└─────────┘┌─┴─┐»\n",
       "«       q_4 -> 22 ┤ X ├───────■────┼──┤ X ├──┼────┼────┼──┤ X ├───────────┤ X ├»\n",
       "«                 └─┬─┘       │    │  └───┘┌─┴─┐  │  ┌─┴─┐└─┬─┘           └───┘»\n",
       "«       q_3 -> 23 ──┼────■────┼────■───────┤ X ├──■──┤ X ├──┼──────────────────»\n",
       "«                   │  ┌─┴─┐  │            └───┘     └───┘  │                  »\n",
       "«       q_5 -> 24 ──┼──┤ X ├──┼────■────────────────────────┼──────────────────»\n",
       "«                   │  └───┘┌─┴─┐┌─┴─┐     ┌───┐            │                  »\n",
       "«       q_6 -> 25 ──■───────┤ X ├┤ X ├──■──┤ X ├──■─────────■──────────────────»\n",
       "«                           └───┘└───┘┌─┴─┐└─┬─┘┌─┴─┐                          »\n",
       "«       q_7 -> 26 ────────────────────┤ X ├──■──┤ X ├──────────────────────────»\n",
       "«                                     └───┘     └───┘                          »\n",
       "«            c: 8/═════════════════════════════════════════════════════════════»\n",
       "«                                                                              »\n",
       "«                                                                             »\n",
       "«  ancilla_0 -> 0 ────────────────────────────────────────────────────────────»\n",
       "«                                                                             »\n",
       "«  ancilla_1 -> 1 ────────────────────────────────────────────────────────────»\n",
       "«                                                                             »\n",
       "«  ancilla_2 -> 2 ────────────────────────────────────────────────────────────»\n",
       "«                                                                             »\n",
       "«  ancilla_3 -> 3 ────────────────────────────────────────────────────────────»\n",
       "«                                                                             »\n",
       "«  ancilla_4 -> 4 ────────────────────────────────────────────────────────────»\n",
       "«                                                                             »\n",
       "«  ancilla_5 -> 5 ────────────────────────────────────────────────────────────»\n",
       "«                                                                             »\n",
       "«  ancilla_6 -> 6 ────────────────────────────────────────────────────────────»\n",
       "«                                                                             »\n",
       "«  ancilla_7 -> 7 ────────────────────────────────────────────────────────────»\n",
       "«                                                                             »\n",
       "«  ancilla_8 -> 8 ────────────────────────────────────────────────────────────»\n",
       "«                                                                             »\n",
       "«  ancilla_9 -> 9 ────────────────────────────────────────────────────────────»\n",
       "«                                                                             »\n",
       "«ancilla_10 -> 10 ────────────────────────────────────────────────────────────»\n",
       "«                                                                             »\n",
       "«ancilla_11 -> 11 ────────────────────────────────────────────────────────────»\n",
       "«                                                                             »\n",
       "«ancilla_12 -> 12 ────────────────────────────────────────────────────────────»\n",
       "«                                                                             »\n",
       "«ancilla_13 -> 13 ────────────────────────────────────────────────────────────»\n",
       "«                                                                             »\n",
       "«ancilla_14 -> 14 ────────────────────────────────────────────────────────────»\n",
       "«                                                                             »\n",
       "«ancilla_15 -> 15 ────────────────────────────────────────────────────────────»\n",
       "«                                                                             »\n",
       "«ancilla_16 -> 16 ────────────────────────────────────────────────────────────»\n",
       "«                                                                             »\n",
       "«ancilla_17 -> 17 ────────────────────────────────────────────────────────────»\n",
       "«                                                                             »\n",
       "«       q_0 -> 18 ────────────────────────────────────────────────────────────»\n",
       "«                       ┌───┐                                                 »\n",
       "«       q_2 -> 19 ──────┤ X ├─────────────■───────────────────────────────────»\n",
       "«                       └─┬─┘             │                                   »\n",
       "«ancilla_18 -> 20 ────────┼───────────────┼───────────────────────────────────»\n",
       "«                 ┌────┐  │  ┌─────────┐  │                                   »\n",
       "«       q_1 -> 21 ┤ √X ├──┼──┤ Rz(π/2) ├──┼───────────────────────────────────»\n",
       "«                 └────┘  │  └─────────┘┌─┴─┐┌───┐                            »\n",
       "«       q_4 -> 22 ────────■─────────────┤ X ├┤ X ├────────────────────────────»\n",
       "«                                       └───┘└─┬─┘                            »\n",
       "«       q_3 -> 23 ─────────────────────────────┼──────────────────────────────»\n",
       "«                                              │                              »\n",
       "«       q_5 -> 24 ─────────────────────────────┼──────────────────────────────»\n",
       "«                                              │  ┌─────────┐┌────┐┌─────────┐»\n",
       "«       q_6 -> 25 ─────────────────────────────■──┤ Rz(π/2) ├┤ √X ├┤ Rz(π/2) ├»\n",
       "«                                                 └─────────┘└────┘└─────────┘»\n",
       "«       q_7 -> 26 ────────────────────────────────────────────────────────────»\n",
       "«                                                                             »\n",
       "«            c: 8/════════════════════════════════════════════════════════════»\n",
       "«                                                                             »\n",
       "«                  ░                         \n",
       "«  ancilla_0 -> 0 ─░─────────────────────────\n",
       "«                  ░                         \n",
       "«  ancilla_1 -> 1 ─░─────────────────────────\n",
       "«                  ░                         \n",
       "«  ancilla_2 -> 2 ─░─────────────────────────\n",
       "«                  ░                         \n",
       "«  ancilla_3 -> 3 ─░─────────────────────────\n",
       "«                  ░                         \n",
       "«  ancilla_4 -> 4 ─░─────────────────────────\n",
       "«                  ░                         \n",
       "«  ancilla_5 -> 5 ─░─────────────────────────\n",
       "«                  ░                         \n",
       "«  ancilla_6 -> 6 ─░─────────────────────────\n",
       "«                  ░                         \n",
       "«  ancilla_7 -> 7 ─░─────────────────────────\n",
       "«                  ░                         \n",
       "«  ancilla_8 -> 8 ─░─────────────────────────\n",
       "«                  ░                         \n",
       "«  ancilla_9 -> 9 ─░─────────────────────────\n",
       "«                  ░                         \n",
       "«ancilla_10 -> 10 ─░─────────────────────────\n",
       "«                  ░                         \n",
       "«ancilla_11 -> 11 ─░─────────────────────────\n",
       "«                  ░                         \n",
       "«ancilla_12 -> 12 ─░─────────────────────────\n",
       "«                  ░                         \n",
       "«ancilla_13 -> 13 ─░─────────────────────────\n",
       "«                  ░                         \n",
       "«ancilla_14 -> 14 ─░─────────────────────────\n",
       "«                  ░                         \n",
       "«ancilla_15 -> 15 ─░─────────────────────────\n",
       "«                  ░                         \n",
       "«ancilla_16 -> 16 ─░─────────────────────────\n",
       "«                  ░                         \n",
       "«ancilla_17 -> 17 ─░─────────────────────────\n",
       "«                  ░                      ┌─┐\n",
       "«       q_0 -> 18 ─░──────────────────────┤M├\n",
       "«                  ░       ┌─┐            └╥┘\n",
       "«       q_2 -> 19 ─░───────┤M├─────────────╫─\n",
       "«                  ░       └╥┘             ║ \n",
       "«ancilla_18 -> 20 ─░────────╫──────────────╫─\n",
       "«                  ░    ┌─┐ ║              ║ \n",
       "«       q_1 -> 21 ─░────┤M├─╫──────────────╫─\n",
       "«                  ░    └╥┘ ║       ┌─┐    ║ \n",
       "«       q_4 -> 22 ─░─────╫──╫───────┤M├────╫─\n",
       "«                  ░     ║  ║    ┌─┐└╥┘    ║ \n",
       "«       q_3 -> 23 ─░─────╫──╫────┤M├─╫─────╫─\n",
       "«                  ░     ║  ║    └╥┘ ║ ┌─┐ ║ \n",
       "«       q_5 -> 24 ─░─────╫──╫─────╫──╫─┤M├─╫─\n",
       "«                  ░ ┌─┐ ║  ║     ║  ║ └╥┘ ║ \n",
       "«       q_6 -> 25 ─░─┤M├─╫──╫─────╫──╫──╫──╫─\n",
       "«                  ░ └╥┘ ║  ║ ┌─┐ ║  ║  ║  ║ \n",
       "«       q_7 -> 26 ─░──╫──╫──╫─┤M├─╫──╫──╫──╫─\n",
       "«                  ░  ║  ║  ║ └╥┘ ║  ║  ║  ║ \n",
       "«            c: 8/════╩══╩══╩══╩══╩══╩══╩══╩═\n",
       "«                     0  1  2  3  4  5  6  7 "
      ]
     },
     "execution_count": 63,
     "metadata": {},
     "output_type": "execute_result"
    }
   ],
   "source": [
    "tcirc.draw()"
   ]
  }
 ],
 "metadata": {
  "interpreter": {
   "hash": "86f8aee878472e69439ff947399f6a80de120db54ff989a904b64928bf8478a2"
  },
  "kernelspec": {
   "display_name": "Python 3.9.13 ('tenpy')",
   "language": "python",
   "name": "python3"
  },
  "language_info": {
   "codemirror_mode": {
    "name": "ipython",
    "version": 3
   },
   "file_extension": ".py",
   "mimetype": "text/x-python",
   "name": "python",
   "nbconvert_exporter": "python",
   "pygments_lexer": "ipython3",
   "version": "3.9.13"
  },
  "orig_nbformat": 4
 },
 "nbformat": 4,
 "nbformat_minor": 2
}
