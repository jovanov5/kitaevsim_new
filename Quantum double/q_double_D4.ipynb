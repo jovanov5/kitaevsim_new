{
 "cells": [
  {
   "cell_type": "markdown",
   "metadata": {},
   "source": [
    "# Preamble"
   ]
  },
  {
   "cell_type": "markdown",
   "metadata": {},
   "source": [
    "WIP: reformating how I store anyons!\n",
    "\n",
    "DONE.\n",
    "\n",
    "FIX: eig -> eigh\n",
    "\n",
    "TODO: 5- and 6-gon consistency."
   ]
  },
  {
   "cell_type": "code",
   "execution_count": 1,
   "metadata": {},
   "outputs": [],
   "source": [
    "import numpy as np\n",
    "import itertools"
   ]
  },
  {
   "cell_type": "markdown",
   "metadata": {},
   "source": [
    "Some Matrix functions:"
   ]
  },
  {
   "cell_type": "code",
   "execution_count": 2,
   "metadata": {},
   "outputs": [],
   "source": [
    "def dag(M):\n",
    "    return np.conjugate(M.T)\n",
    "def matInv(M):\n",
    "    return np.linalg.inv(M)\n",
    "def is_eq(A,B):\n",
    "    return np.array_equal(A,B)"
   ]
  },
  {
   "cell_type": "code",
   "execution_count": 3,
   "metadata": {},
   "outputs": [
    {
     "name": "stdout",
     "output_type": "stream",
     "text": [
      "[[ 0.+0.j  0.+1.j]\n",
      " [-0.-1.j  0.+0.j]]\n",
      "True\n"
     ]
    }
   ],
   "source": [
    "A = np.array([[0, 1.j],[-1.j, 0]])\n",
    "print(A)\n",
    "print(is_eq(dag(A), matInv(A)))"
   ]
  },
  {
   "cell_type": "markdown",
   "metadata": {},
   "source": [
    "# Fusion Rules and F- and R- Symbol Calculation\n",
    "\n",
    "## Fusion\n",
    "\n",
    "Using the Verlinde formula to get S-matrix and then using that to extract the fusion rules $N_{\\mathcal{A}\\mathcal{B}}^{\\mathcal{C}}$:\n",
    "\n",
    "$\\mathcal{S}_{\\mathcal{A}\\mathcal{B}} = \\frac{1}{|G|}\\sum_{h_i^A \\in C_A, h_j^B \\in C_B, h^A_i h^B_j = h^B_j h^A_i} \\chi^A((x_i^A)^{-1}h_j^B x_i^A)\\chi^B((x_j^B)^{-1}h_i^A x_j^B)$,\n",
    "\n",
    "where $x_i^A h_1^A(x_i^A)^{-1} = h_1^A$ which is a $C_A$ representative [alt. $q_c r \\bar{q}_c = c$].\n",
    "\n",
    "$N_{\\mathcal{A}\\mathcal{B}}^{\\mathcal{C}} = \\sum_\\mathcal{L} \\frac{\\mathcal{S}_{\\mathcal{A}\\mathcal{L}}\\mathcal{S}_{\\mathcal{B}\\mathcal{L}}\\mathcal{S}_{\\mathcal{C}\\mathcal{L}}^*}{\\mathcal{S}_{\\mathcal{0}\\mathcal{L}}}$.\n",
    "\n",
    "## F- and R-\n",
    "\n",
    "Imagine we hace a space $\\mathcal{H} = \\mathcal{H}_b \\otimes \\mathcal{H}_a$ we can project down to the space of irreducible representations by $\\mathcal{P}_{c}^{ba}(\\ket{c, \\mu}) \\propto \\sum_{h \\in G}\\sum_{z \\in Z(r)}R^\\dag_{\\mu\\mu}(z) B_h^b A_{q_c z \\bar{q}_c}^b \\otimes B_{h^{-1}c}^a A_{q_c z \\bar{q}_c}^a$, where $\\ket{c, \\mu} \\in \\mathcal{H}_c$.\n",
    "\n",
    "This allows us to define the splitting tree map: $\\phi_c^{ba}: \\mathcal{H}_c \\rightarrow \\mathcal{H}_b \\otimes \\mathcal{H}_a$ as $\\phi_c^{ba}(\\ket{c, \\mu}) = \\text{eig}(\\mathcal{P}_{c}^{ba}(\\ket{c, \\mu}), \\lambda = 1) \\times e^{i \\phi(c, \\mu)}$. The phase being set by requiring correct group action of $A_g^{ba} \\circ \\phi_c^{ba} \\circ A_{\\bar{g}}^{c} = \\phi_c^{ba} $.\n",
    "\n",
    "The braiding action $\\mathcal{B}_{ab}: \\mathcal{H}_a\\otimes\\mathcal{H}_b\\rightarrow\\mathcal{H}_b\\otimes\\mathcal{H}_a$ is given by: $Flip \\circ (\\sum_g A_g^a \\otimes B_g^b)$.\n",
    "\n",
    "Combining the two facts we can evaluate the R-symbol as: $\\mathcal{R}_c^{ab} \\propto (\\phi_c^{ba}(\\ket{c, \\mu}))^\\dag\\mathcal{B}_{ab}(\\phi_c^{ab}(\\ket{c, \\mu}))$, with condition $|\\mathcal{R}_c^{ab}| = 1$.\n",
    "\n",
    "### F- Symbol\n",
    "\n",
    "In a similar manner we can calculate the F-symbol as : $(\\mathcal{F}_a^{bcd})_{xy} \\propto (\\phi_y^{cd} \\circ \\phi_a^{by}(\\ket{c,\\mu}))^\\dag\\phi_x^{bc} \\circ \\phi_a^{xd}(\\ket{c,\\mu})$"
   ]
  },
  {
   "cell_type": "markdown",
   "metadata": {},
   "source": [
    "## $D_4$"
   ]
  },
  {
   "cell_type": "markdown",
   "metadata": {},
   "source": [
    "### Fusion Rule Calculations and Group Def"
   ]
  },
  {
   "cell_type": "code",
   "execution_count": 4,
   "metadata": {},
   "outputs": [],
   "source": [
    "R = np.array([[0, -1],[1, 0]])\n",
    "M = np.array([[1, 0],[0, -1]])\n",
    "G = np.zeros([2,2,8])\n",
    "G[:,:,0] = np.eye(2) # The D_4 group [via it's faithful 2d rep]\n",
    "G[:,:,1] = R\n",
    "G[:,:,2] = R@R\n",
    "G[:,:,3] = R@R@R\n",
    "G[:,:,4] = M\n",
    "G[:,:,5] = M@R\n",
    "G[:,:,6] = M@R@R\n",
    "G[:,:,7] = M@R@R@R\n",
    "g_lab = ['e','r','rr','rrr','m','mr','mrr','mrrr']\n",
    "order = len(g_lab)\n",
    "\n",
    "C_e = np.array([0])  # Conj Classes\n",
    "C_r = np.array([1,3])\n",
    "C_rr = np.array([2])\n",
    "C_m = np.array([4,6])\n",
    "C_mr = np.array([5,7])\n",
    "\n",
    "Z_e = np.array([0, 1, 2, 3, 4, 5, 6, 7])  # Centers Classes\n",
    "Z_r = np.array([0, 1, 2, 3])\n",
    "Z_rr = np.array([0, 1, 2, 3, 4, 5, 6, 7])\n",
    "Z_m = np.array([0, 2, 4, 6])\n",
    "Z_mr = np.array([0, 2, 5, 7])\n",
    "\n",
    "X_e = np.array([0]) # Coset Representatives\n",
    "X_r = np.array([0,4])\n",
    "X_rr = np.array([0])\n",
    "X_m = np.array([0,3])\n",
    "X_mr = np.array([0,3])\n"
   ]
  },
  {
   "cell_type": "code",
   "execution_count": 5,
   "metadata": {},
   "outputs": [],
   "source": [
    "# Def the reps as Mats\n",
    "def Triv(x):\n",
    "    return np.array([[1]])\n",
    "def A_r(x):\n",
    "    if (x in C_mr) or (x in C_m):\n",
    "        return np.array([[-1]])\n",
    "    else:\n",
    "        return np.array([[1]])\n",
    "def A_mr(x):\n",
    "    if (x in C_r) or (x in C_m):\n",
    "        return np.array([[-1]])\n",
    "    else:\n",
    "        return np.array([[1]])\n",
    "def A_m(x):\n",
    "    if (x in C_mr) or (x in C_r):\n",
    "        return np.array([[-1]])\n",
    "    else:\n",
    "        return np.array([[1]])\n",
    "def E_D(x):\n",
    "    return G[:,:,x] # Faithful 2d Rep\n",
    "def B_i(x):\n",
    "    if (x in [4,5,6,7]):\n",
    "        return np.array([[-1]])\n",
    "    elif (x in [0,2]):\n",
    "        return np.array([[1]])\n",
    "    else:\n",
    "        return np.array([[0]])\n",
    "def B_j(x):\n",
    "    if (x in [2,6,7]):\n",
    "        return np.array([[-1]])\n",
    "    elif (x in [0,4,5]):\n",
    "        return np.array([[1]])\n",
    "    else:\n",
    "        return np.array([[0]])\n",
    "def B_k(x):\n",
    "    if (x in [2,4,5]):\n",
    "        return np.array([[-1]])\n",
    "    elif (x in [0,6,7]):\n",
    "        return np.array([[1]])\n",
    "    else:\n",
    "        return np.array([[0]])\n",
    "def Om_1(x):\n",
    "    if (x in [0,1,2,3]):\n",
    "        return np.array([[(1.j**x)]])\n",
    "    else:\n",
    "        return np.array([[0]])\n",
    "def Om_2(x):\n",
    "    if (x in [0,1,2,3]):\n",
    "        return np.array([[(1.j**(2*x))]])\n",
    "    else:\n",
    "        return np.array([[0]])\n",
    "def Om_3(x):\n",
    "    if (x in [0,1,2,3]):\n",
    "        return np.array([[(1.j**(3*x))]])\n",
    "    else:\n",
    "        return np.array([[0]])"
   ]
  },
  {
   "cell_type": "code",
   "execution_count": 6,
   "metadata": {},
   "outputs": [],
   "source": [
    "# Def the charges of reps\n",
    "def triv(x):\n",
    "    return 1\n",
    "def a_r(x):\n",
    "    if (x in C_mr) or (x in C_m):\n",
    "        return -1\n",
    "    else:\n",
    "        return 1\n",
    "def a_mr(x):\n",
    "    if (x in C_r) or (x in C_m):\n",
    "        return -1\n",
    "    else:\n",
    "        return 1\n",
    "def a_m(x):\n",
    "    if (x in C_mr) or (x in C_r):\n",
    "        return -1\n",
    "    else:\n",
    "        return 1\n",
    "def e_D(x):\n",
    "    if (x in C_e):\n",
    "        return 2\n",
    "    elif (x in C_rr):\n",
    "        return -2\n",
    "    else:\n",
    "        return 0\n",
    "def b_i(x):\n",
    "    if (x in [4,5,6,7]):\n",
    "        return -1\n",
    "    elif (x in [0,2]):\n",
    "        return 1\n",
    "    else:\n",
    "        return 0\n",
    "def b_j(x):\n",
    "    if (x in [2,6,7]):\n",
    "        return -1\n",
    "    elif (x in [0,4,5]):\n",
    "        return 1\n",
    "    else:\n",
    "        return 0\n",
    "def b_k(x):\n",
    "    if (x in [2,4,5]):\n",
    "        return -1\n",
    "    elif (x in [0,6,7]):\n",
    "        return 1\n",
    "    else:\n",
    "        return 0\n",
    "def om_1(x):\n",
    "    if (x in [0,1,2,3]):\n",
    "        return (1.j**x)\n",
    "    else:\n",
    "        return 0\n",
    "def om_2(x):\n",
    "    if (x in [0,1,2,3]):\n",
    "        return (1.j**(2*x))\n",
    "    else:\n",
    "        return 0\n",
    "def om_3(x):\n",
    "    if (x in [0,1,2,3]):\n",
    "        return (1.j**(3*x))\n",
    "    else:\n",
    "        return 0\n"
   ]
  },
  {
   "cell_type": "code",
   "execution_count": 7,
   "metadata": {},
   "outputs": [],
   "source": [
    "# Def the anyons!\n",
    "Z_s_D = [Z_e, Z_rr, Z_e, Z_e, Z_e, Z_rr, Z_rr, Z_rr, Z_e, Z_rr, Z_r, Z_r, Z_r, Z_r, Z_m, Z_m, Z_m, Z_m, Z_mr, Z_mr, Z_mr, Z_mr]\n",
    "Dim_s_D = [1,1,1,1,1,1,1,1,2,2,2,2,2,2,2,2,2,2,2,2,2,2]\n",
    "C_mods_D = [1,1,1,1,1,1,1,1,1,1,2,2,2,2,2,2,2,2,2,2,2,2]\n",
    "chi_mods_D = [1,1,1,1,1,1,1,1,2,2,1,1,1,1,1,1,1,1,1,1,1,1]\n",
    "Z_reps_D = [Triv, Triv, A_r, A_mr, A_m, A_r, A_mr, A_m, E_D, E_D, Triv, Om_1, Om_2, Om_3, Triv, B_i, B_j, B_k, Triv, B_i, B_j, B_k]\n",
    "C_s_D = [C_e, C_rr, C_e, C_e, C_e, C_rr, C_rr, C_rr, C_e, C_rr, C_r, C_r, C_r, C_r, C_m, C_m, C_m, C_m, C_mr, C_mr, C_mr, C_mr]\n",
    "Z_charges = [triv, triv, a_r, a_mr, a_m, a_r, a_mr, a_m, e_D, e_D, triv, om_1, om_2, om_3, triv, b_i, b_j, b_k, triv, b_i, b_j, b_k]\n",
    "Particles_lab_D = ['O_e','O_rr', 'R_e', 'MR_e', 'M_e', 'R_rr', 'MR_rr', 'M_rr',\\\n",
    "     'E_e', 'E_rr',\\\n",
    "        'OM0_r', 'OM1_r', 'OM2_r', 'OM3_r', \\\n",
    "            'B1_m', 'B2_m', 'B3_m', 'B4_m', \\\n",
    "                'B1_mr', 'B2_mr', 'B3_mr', 'B4_mr']\n",
    "N_anyons = 22\n",
    "Particles_D = [(i, Dim_s_D[i], C_s_D[i],  C_mods_D[i], Z_s_D[i], Z_charges[i], Z_reps_D[i], chi_mods_D[i], Particles_lab_D[i]) for i in range(N_anyons)]"
   ]
  },
  {
   "cell_type": "code",
   "execution_count": 8,
   "metadata": {},
   "outputs": [],
   "source": [
    "# Def some useful fuctions and particles [Many use G as a global variable!!!! order of cell exec is important]\n",
    "\n",
    "def q(c):\n",
    "    Q_C = [0, 0, 0, 4, 0, 0, 3, 3] # This for q_c instead\n",
    "    return Q_C[c]\n",
    "\n",
    "\n",
    "def grp(x):\n",
    "    return G[:,:,x] # USE G AS A GLOBAL VAR!!! ---- CAREFUL !\n",
    "\n",
    "\n",
    "def grp_i(i):\n",
    "    return matInv(G[:,:,i])\n",
    "\n",
    "\n",
    "def index(h):\n",
    "    for i in range(8): # to be generalised\n",
    "        if np.array_equal(h, G[:,:,i]):\n",
    "            return i\n",
    "\n",
    "\n",
    "def inv(x):\n",
    "    for i in range(8): # to be generalised\n",
    "        if np.array_equal(matInv(G[:,:,x]), G[:,:,i]):\n",
    "            return i\n",
    "# i, d, C, cd, Z, char, rep, repd, lab\n",
    "S = np.zeros([22,22], complex)\n",
    "for i, _, C_i, _, _, char_i, _, _,_ in Particles_D:\n",
    "    for j, _, C_j, _, _, char_j, _, _,_ in Particles_D:\n",
    "        s = 0 \n",
    "        for i_class, elem_i_class in enumerate(C_i):\n",
    "            for j_class, elem_j_class in enumerate(C_j):\n",
    "                if is_eq(grp(elem_i_class)@grp(elem_j_class), grp(elem_j_class)@grp(elem_i_class)):\n",
    "                    s+=char_i(index(grp_i(q(elem_i_class))@grp(elem_j_class)@grp(q(elem_i_class))))*char_j(index(grp_i(q(elem_j_class))@grp(elem_i_class)@grp(q(elem_j_class))))\n",
    "        S[i,j] = s # maybe conj\n",
    "\n",
    "S_D = S/8\n",
    "# print('\\n'.join([''.join(['{:4}'.format(item) for item in row]) \n",
    "#      for row in S]))\n",
    "N_D = np.zeros([22,22,22])\n",
    "for I in range(22):\n",
    "    for J in range(22):\n",
    "        for K in range(22):\n",
    "            for L in range(22):\n",
    "                N_D[I,J,K] += np.real(S_D[I,L]*S_D[J,L]*np.conj(S_D[K,L])/S_D[0,L])"
   ]
  },
  {
   "cell_type": "markdown",
   "metadata": {},
   "source": [
    "Query S matrix:"
   ]
  },
  {
   "cell_type": "code",
   "execution_count": 9,
   "metadata": {},
   "outputs": [
    {
     "name": "stdout",
     "output_type": "stream",
     "text": [
      "OM0_r , B2_m\n",
      "S_{aa}=(0.5+0j)\n",
      "S_{bb}=(0.5+0j)\n",
      "S_{ab}=0j\n",
      "S_{ba}=0j\n",
      "S_{0a}=(0.25+0j)\n",
      "S_{a0}=(0.25+0j)\n",
      "S_{0a}=(0.25+0j)\n",
      "S_{a0}=(0.25+0j)\n"
     ]
    }
   ],
   "source": [
    "an_1 = 10\n",
    "an_2 = 15\n",
    "print(Particles_lab_D[an_1],',', Particles_lab_D[an_2])\n",
    "print('S_{aa}='+str(S_D[an_1, an_1]))\n",
    "print('S_{bb}='+str(S_D[an_2, an_2]))\n",
    "print('S_{ab}='+str(S_D[an_1, an_2]))\n",
    "print('S_{ba}='+str(S_D[an_2, an_1]))\n",
    "print('S_{0a}='+str(S_D[0, an_2]))\n",
    "print('S_{a0}='+str(S_D[an_2, 0]))\n",
    "print('S_{0a}='+str(S_D[0, an_1]))\n",
    "print('S_{a0}='+str(S_D[an_1, 0]))"
   ]
  },
  {
   "cell_type": "markdown",
   "metadata": {},
   "source": [
    "Query Fusion rules:"
   ]
  },
  {
   "cell_type": "code",
   "execution_count": 10,
   "metadata": {},
   "outputs": [
    {
     "name": "stdout",
     "output_type": "stream",
     "text": [
      "OM0_r x OM0_r =\n",
      "1 x O_e\n",
      "1 x O_rr\n",
      "1 x R_e\n",
      "1 x R_rr\n"
     ]
    }
   ],
   "source": [
    "i_1 = 10 # Prints fusion rules\n",
    "i_2 = 10\n",
    "print(Particles_lab_D[i_1],'x', Particles_lab_D[i_2], '=')\n",
    "for i, indicator in enumerate(N_D[i_1,i_2,:]):\n",
    "    if indicator != 0:\n",
    "        print(int(indicator),'x', Particles_lab_D[i])\n",
    "S_r = 8*np.real(S)"
   ]
  },
  {
   "cell_type": "markdown",
   "metadata": {},
   "source": [
    "### Defining Representation Matrices of $D(D_4)$"
   ]
  },
  {
   "cell_type": "markdown",
   "metadata": {},
   "source": [
    "#### $A_g$ :"
   ]
  },
  {
   "cell_type": "code",
   "execution_count": 11,
   "metadata": {},
   "outputs": [],
   "source": [
    "# i, d, C, cd, Z, char, rep, repd, lab\n",
    "def a_mat(an_type, g):\n",
    "    # Basis is |c \\mu> \n",
    "    (id, d, C, C_mod, Z_set, char, Z_rep, chi_mod, lab) = Particles_D[an_type]\n",
    "    # use q(c) instead of X set\n",
    "    A = np.zeros([d, d], dtype=complex)\n",
    "    for i_c, c in enumerate(C):\n",
    "        for mu in range(chi_mod):\n",
    "            for i_cp, c_prim in enumerate(C):\n",
    "                for nu in range(chi_mod):\n",
    "                    if is_eq(grp(c_prim), grp(g)@grp(c)@grp_i(g)):\n",
    "                        rep_map = Z_rep(index( grp_i(q(c_prim))@grp(g)@grp(q(c)) ))\n",
    "                        mat_elem = rep_map[mu,nu]\n",
    "                        A[i_cp*chi_mod+nu, i_c*chi_mod+mu]=mat_elem\n",
    "    return A"
   ]
  },
  {
   "cell_type": "markdown",
   "metadata": {},
   "source": [
    "#### $B_h:$"
   ]
  },
  {
   "cell_type": "code",
   "execution_count": 12,
   "metadata": {},
   "outputs": [],
   "source": [
    "def b_mat(an_type, g):\n",
    "    # Basis is |c \\mu> \n",
    "    (id, d, C, C_mod, Z_set, char, Z_rep, chi_mod, lab) = Particles_D[an_type]\n",
    "    # use q(c) instead of X set\n",
    "    B = np.zeros([d, d], dtype=complex)\n",
    "    for i_c, c in enumerate(C):\n",
    "        for mu in range(chi_mod):        \n",
    "            if g == c:\n",
    "                B[i_c*chi_mod+mu, i_c*chi_mod+mu]=1\n",
    "    return B"
   ]
  },
  {
   "cell_type": "markdown",
   "metadata": {},
   "source": [
    "#### Query the Matrices:"
   ]
  },
  {
   "cell_type": "code",
   "execution_count": 13,
   "metadata": {},
   "outputs": [
    {
     "name": "stdout",
     "output_type": "stream",
     "text": [
      "OM1_r\n",
      "r\n",
      "[[ 0.+1.j  0.+0.j]\n",
      " [ 0.+0.j -0.-1.j]]\n",
      "[[1.+0.j 0.+0.j]\n",
      " [0.+0.j 0.+0.j]]\n"
     ]
    }
   ],
   "source": [
    "an = 11\n",
    "g = 1\n",
    "print(Particles_lab_D[an])\n",
    "print(g_lab[g])\n",
    "print(a_mat(an, g))\n",
    "print(b_mat(an, g))"
   ]
  },
  {
   "cell_type": "markdown",
   "metadata": {},
   "source": [
    "### The fusion projectors and plitting tree maps"
   ]
  },
  {
   "cell_type": "code",
   "execution_count": 14,
   "metadata": {},
   "outputs": [],
   "source": [
    "def fusion_products(an_1, an_2):\n",
    "    res = []\n",
    "    for i, indicator in enumerate(N_D[an_1,an_2,:]):\n",
    "        if indicator != 0:\n",
    "            res += [i]\n",
    "    return res\n",
    "\n",
    "def do_they_fuse(an_1, an_2, an_3):\n",
    "    return an_3 in fusion_products(an_1, an_2)\n",
    "\n",
    "def proj_norm(P):\n",
    "    a = np.trace(P)\n",
    "    b = np.trace(P@P)\n",
    "    return P*a/b\n",
    "\n",
    "def splitting_tree(an_1, an_2, an_3, id): #Only good if id = 0\n",
    "    Pro = rep_proj_spec(an_1, an_2, an_3, id)\n",
    "    w, v = np.linalg.eigh(Pro)\n",
    "    for i_lam, lam in enumerate(w):\n",
    "        if lam == 1:\n",
    "            Vec = v[:,i_lam]\n",
    "    return Vec\n",
    "\n",
    "def splitting_tree_proper(an_1, an_2, an_3): #Returns a properlt gauge fixed basis\n",
    "    (_, d_3, _, _, _, _, _, _, _) = Particles_D[an_3]\n",
    "    (_, d_2, _, _, _, _, _, _, _) = Particles_D[an_2]\n",
    "    (_, d_1, _, _, _, _, _, _, _) = Particles_D[an_1]\n",
    "    Basis_unfixed = []\n",
    "    order = np.size(G[0,0,:])\n",
    "    for i_3 in range(d_3):\n",
    "        Basis_unfixed += [splitting_tree(an_1, an_2, an_3, i_3)]\n",
    "    Basis_fixed = Basis_unfixed\n",
    "    if d_3 == 1:\n",
    "        return Basis_fixed\n",
    "    else:\n",
    "        for i_3 in range(1,d_3):\n",
    "            not_done = 1\n",
    "            for g in range(order):\n",
    "                if not_done:\n",
    "                    Vec_3 = np.zeros([d_1*d_2], dtype=complex)\n",
    "                    for mat_mul in range(d_3):\n",
    "                        Vec_3 += a_mat(an_3, g)[0,mat_mul]*Basis_unfixed[mat_mul]\n",
    "                    Vec_12 = np.kron(a_mat(an_1, g), a_mat(an_2, g))@Basis_unfixed[0]\n",
    "                    overlap_12 = np.vdot(Basis_unfixed[i_3], Vec_3)\n",
    "                    overlap_3 = np.vdot(Basis_unfixed[i_3], Vec_12)\n",
    "                    if overlap_12 != 0 and overlap_3 != 0:\n",
    "                        Basis_fixed[i_3] = Basis_unfixed[i_3]*overlap_12/overlap_3\n",
    "                        not_done = 0\n",
    "    return Basis_fixed\n",
    "\n",
    "\n",
    "\n",
    "\n",
    "def rep_proj(an_1, an_2, an_3):\n",
    "    (id_3, _, C_3, _, Z_3, char_3, Z_rep_3, chi_mod_3, _) = Particles_D[an_3]\n",
    "    (_, d_2, _, _, _, _, _, _, _) = Particles_D[an_2]\n",
    "    (_, d_1, _, _, _, _, _, _, _) = Particles_D[an_1]\n",
    "    Res = np.zeros([d_1*d_2,d_1*d_2], dtype=complex)\n",
    "    for c in C_3:\n",
    "        for z in Z_3:\n",
    "            for h in range(8):\n",
    "                Res += np.conjugate(char_3(z))*np.kron( b_mat(an_1, index( grp_i(h)@grp(c) ) ) @ a_mat(an_1,index( grp(q(c))@grp(z)@grp_i(q(c)) )),\n",
    "                b_mat(an_2,h) @ a_mat(an_2,index( grp(q(c))@grp(z)@grp_i(q(c)) )) )\n",
    "    return proj_norm(Res) # Normalisation issues :(\n",
    "\n",
    "def rep_proj_spec(an_1, an_2, an_3, id):# Basis is |c \\mu> # NOT SURE if the FORM is correct \n",
    "    (id_3, _, C_3, _, Z_3, char_3, Z_rep_3, chi_mod_3, _) = Particles_D[an_3]\n",
    "    (_, d_2, _, _, _, _, _, _, _) = Particles_D[an_2]\n",
    "    (_, d_1, _, _, _, _, _, _, _) = Particles_D[an_1]\n",
    "    Res = np.zeros([d_1*d_2,d_1*d_2], dtype=complex)\n",
    "    i_c = int(np.floor(id/chi_mod_3))\n",
    "    c = C_3[i_c]\n",
    "    mu = np.mod(id,chi_mod_3)\n",
    "    for z in Z_3:\n",
    "        for h in range(8):\n",
    "            Res += Z_rep_3(z)[mu,mu].conj()*np.kron( b_mat(an_1, # Investigate does this one work???\n",
    "            index( grp_i(h)@grp(c) ) ) @ a_mat(an_1,\n",
    "            index( grp(q(c))@grp(z)@grp_i(q(c)) )),\n",
    "            b_mat(an_2,h) @ a_mat(an_2,index( grp(q(c))@grp(z)@grp_i(q(c)) )) )\n",
    "    return proj_norm(Res) # Normalisation issues :(\n",
    "\n"
   ]
  },
  {
   "cell_type": "code",
   "execution_count": 15,
   "metadata": {},
   "outputs": [
    {
     "data": {
      "text/plain": [
       "8"
      ]
     },
     "execution_count": 15,
     "metadata": {},
     "output_type": "execute_result"
    }
   ],
   "source": [
    "np.size(G[0,0,:])"
   ]
  },
  {
   "cell_type": "markdown",
   "metadata": {},
   "source": [
    "### The R-sym Calculation:"
   ]
  },
  {
   "cell_type": "code",
   "execution_count": 16,
   "metadata": {},
   "outputs": [],
   "source": [
    "def r_symbol(an_1, an_2, an_3):\n",
    "    (_, d_2, _, _, _, _, _, _, _) = Particles_D[an_2]\n",
    "    (_, d_1, _, _, _, _, _, _, _) = Particles_D[an_1]\n",
    "    T = np.zeros([d_1*d_2, d_1*d_2], dtype=complex)\n",
    "    # T_k = np.zeros([d_1*d_2, d_1*d_2], dtype=complex)\n",
    "    for g in range(order):\n",
    "        T += np.kron(a_mat(an_1,g), b_mat(an_2,g))\n",
    "        # T_k += np.kron(b_mat(an_2,g), a_mat(an_1,g))\n",
    "    # print('apply', T)\n",
    "    F = np.zeros([d_1*d_2, d_1*d_2])\n",
    "    for i in range(d_1):\n",
    "        for j in range(d_2):\n",
    "            for m in range(d_2):\n",
    "                for n in range(d_1):\n",
    "                    if i == n and j == m:\n",
    "                        F[m*d_1+n, i*d_2 + j] = 1\n",
    "\n",
    "    # Contrcut the Splitting Tree Basis!\n",
    "    Vec_1 = splitting_tree(an_2, an_1, an_3,0)\n",
    "    Vec_2 = splitting_tree(an_1, an_2, an_3,0) \n",
    "    Vec_2 = F@T@Vec_2 # The other way gives 0\n",
    "    # print(Vec_1)\n",
    "    # print(Vec_2)\n",
    "    overlap = np.round(np.vdot(Vec_1, Vec_2),2) # issue !!!!\n",
    "    # print(Vec_1, Vec_2)\n",
    "    return overlap\n",
    "    \n",
    "def fusion_and_braid(an_1, an_2): # Depends on a lot of outside variables!!!\n",
    "    # print(Particles_lab_Q[an_1],'x', Particles_lab_Q[an_2], '=')\n",
    "    # Reduce text\n",
    "    pr = []\n",
    "    for i, indicator in enumerate(N_D[an_1,an_2,:]):\n",
    "        if np.round(indicator,1) != 0:\n",
    "            # Calculate the R-Symbol\n",
    "            #print(int(indicator),'x', Particles_lab_Q[i], 'with R_symb', str(r_symbol(an_1,an_2, i)))\n",
    "            pr += [(i, r_symbol(an_1,an_2, i))]\n",
    "    print(an_1, 'x', an_2, '=', pr)\n",
    "    return 0"
   ]
  },
  {
   "cell_type": "markdown",
   "metadata": {},
   "source": [
    "The Results, quesries of fusion and R-symbols:"
   ]
  },
  {
   "cell_type": "code",
   "execution_count": 17,
   "metadata": {},
   "outputs": [
    {
     "name": "stdout",
     "output_type": "stream",
     "text": [
      "21 x 21 = [(0, (-1+0j)), (3, (-1+0j)), (5, (-1+0j)), (7, (1+0j))]\n"
     ]
    },
    {
     "data": {
      "text/plain": [
       "0"
      ]
     },
     "execution_count": 17,
     "metadata": {},
     "output_type": "execute_result"
    }
   ],
   "source": [
    "fusion_and_braid(21,21)"
   ]
  },
  {
   "cell_type": "code",
   "execution_count": 18,
   "metadata": {},
   "outputs": [],
   "source": [
    "# for an_1, x, y, z in Particles_D:\n",
    "#     for an_2, xx, yy, zz in Particles_D:\n",
    "#         fusion_and_braid(an_1, an_2)"
   ]
  },
  {
   "cell_type": "markdown",
   "metadata": {},
   "source": [
    "### F- Symbols \n"
   ]
  },
  {
   "cell_type": "code",
   "execution_count": 19,
   "metadata": {},
   "outputs": [
    {
     "name": "stdout",
     "output_type": "stream",
     "text": [
      "[0, 1, 2, 5]\n",
      "False\n"
     ]
    },
    {
     "data": {
      "text/plain": [
       "array([0., 0.])"
      ]
     },
     "execution_count": 19,
     "metadata": {},
     "output_type": "execute_result"
    }
   ],
   "source": [
    "print(fusion_products(10,10))\n",
    "print(do_they_fuse(10,10,4))\n",
    "np.zeros([2])"
   ]
  },
  {
   "cell_type": "code",
   "execution_count": 20,
   "metadata": {},
   "outputs": [],
   "source": [
    "def f_mat(an_a, an_b, an_c, an_d):\n",
    "    (_, d_a, _, _, _, _, _, _, _) = Particles_D[an_a]\n",
    "    (_, d_b, _, _, _, _, _, _, _) = Particles_D[an_b]\n",
    "    (_, d_c, _, _, _, _, _, _, _) = Particles_D[an_c]\n",
    "    (_, d_d, _, _, _, _, _, _, _) = Particles_D[an_d]\n",
    "    x_ids = []\n",
    "    y_ids = []\n",
    "    print('x=')\n",
    "    for x in fusion_products(an_b, an_c):\n",
    "        if do_they_fuse(x,an_d,an_a):\n",
    "            x_ids+=[x]\n",
    "            print(Particles_lab_D[x])\n",
    "    print('y=')\n",
    "    for y in fusion_products(an_c, an_d):\n",
    "        if do_they_fuse(an_b,y,an_a):\n",
    "            y_ids+=[y]\n",
    "            print(Particles_lab_D[y])\n",
    "    F = np.zeros([len(x_ids), len(y_ids)], dtype=complex)\n",
    "\n",
    "    for i_x, x in enumerate(x_ids):\n",
    "        for i_y, y in enumerate(y_ids):\n",
    "            (_, d_x, _, _, _, _, _, _, _) = Particles_D[x]\n",
    "            (_, d_y, _, _, _, _, _, _, _) = Particles_D[y]\n",
    "            i_vec_a = 0\n",
    "            vec_xd = splitting_tree(x, an_d, an_a, i_vec_a)\n",
    "            vec_by = splitting_tree(an_b, y, an_a, i_vec_a)\n",
    "            vec_bcd_via_x = np.zeros([d_a*d_b*d_c], dtype=complex)\n",
    "            vec_bcd_via_y = np.zeros([d_a*d_b*d_c], dtype=complex)\n",
    "            x_basis = splitting_tree_proper(an_b, an_c, x)\n",
    "            y_basis = splitting_tree_proper(an_c, an_d, y)\n",
    "            for id_x in range(d_x):\n",
    "                for id_d in range(d_d):\n",
    "                    e_d = np.zeros([d_d])\n",
    "                    e_d[id_d] = 1\n",
    "                    vec_bcd_via_x += vec_xd[id_x*d_d + id_d]*np.kron(x_basis[id_x] ,e_d)\n",
    "            for id_y in range(d_y):\n",
    "                for id_b in range(d_b):\n",
    "                    e_b = np.zeros([d_b])\n",
    "                    e_b[id_b] = 1\n",
    "                    vec_bcd_via_y += vec_by[id_b*d_y + id_y]*np.kron(e_b,y_basis[id_y])\n",
    "            F[i_x, i_y] += np.vdot(vec_bcd_via_y, vec_bcd_via_x)\n",
    "    F = np.round(F, 2)\n",
    "    print('F=',F)\n",
    "    return F\n",
    "\n",
    "    "
   ]
  },
  {
   "cell_type": "code",
   "execution_count": 21,
   "metadata": {},
   "outputs": [],
   "source": [
    "def f_mat_elem(an_a, an_b, an_c, an_d, x, y, i_vec_a): # use to debug\n",
    "    (_, d_a, _, _, _, _, _, _, _) = Particles_D[an_a]\n",
    "    (_, d_b, _, _, _, _, _, _, _) = Particles_D[an_b]\n",
    "    (_, d_c, _, _, _, _, _, _, _) = Particles_D[an_c]\n",
    "    (_, d_d, _, _, _, _, _, _, _) = Particles_D[an_d]\n",
    "    F = 0.j\n",
    "    (_, d_x, _, _, _, _, _, _, _) = Particles_D[x]\n",
    "    (_, d_y, _, _, _, _, _, _, _) = Particles_D[y]\n",
    "    vec_xd = splitting_tree(x, an_d, an_a, i_vec_a)\n",
    "    vec_by = splitting_tree(an_b, y, an_a, i_vec_a)\n",
    "    vec_bcd_via_x = np.zeros([d_a*d_b*d_c], dtype=complex)\n",
    "    vec_bcd_via_y = np.zeros([d_a*d_b*d_c], dtype=complex)\n",
    "    x_basis = splitting_tree_proper(an_b, an_c, x)\n",
    "    y_basis = splitting_tree_proper(an_c, an_d, y)\n",
    "    for id_x in range(d_x):\n",
    "        for id_d in range(d_d):\n",
    "            e_d = np.zeros([d_d])\n",
    "            e_d[id_d] = 1\n",
    "            vec_bcd_via_x += vec_xd[id_x*d_d + id_d]*np.kron(x_basis[id_x] ,e_d)\n",
    "    for id_y in range(d_y):\n",
    "        for id_b in range(d_b):\n",
    "            e_b = np.zeros([d_b])\n",
    "            e_b[id_b] = 1\n",
    "            vec_bcd_via_y += vec_by[id_b*d_y + id_y]*np.kron(e_b, y_basis[id_y])\n",
    "    print('x up', np.round(np.real(vec_bcd_via_x),2))\n",
    "    print('y down',np.round(np.real(vec_bcd_via_y), 2))\n",
    "    F += np.vdot(vec_bcd_via_x, vec_bcd_via_y)\n",
    "    F = np.round(F, 2)\n",
    "    return F\n",
    "\n",
    "    "
   ]
  },
  {
   "cell_type": "markdown",
   "metadata": {},
   "source": [
    "Query the F-matrices"
   ]
  },
  {
   "cell_type": "code",
   "execution_count": 22,
   "metadata": {},
   "outputs": [
    {
     "name": "stdout",
     "output_type": "stream",
     "text": [
      "x=\n",
      "B1_mr\n",
      "B2_mr\n",
      "y=\n",
      "B1_mr\n",
      "B2_mr\n",
      "F= [[ 1.+0.j  0.+0.j]\n",
      " [ 0.+0.j -1.+0.j]]\n"
     ]
    }
   ],
   "source": [
    "F = f_mat(14, 10, 14, 10)"
   ]
  },
  {
   "cell_type": "code",
   "execution_count": 23,
   "metadata": {},
   "outputs": [
    {
     "data": {
      "text/plain": [
       "array([[1.+0.j, 0.+0.j],\n",
       "       [0.+0.j, 1.+0.j]])"
      ]
     },
     "execution_count": 23,
     "metadata": {},
     "output_type": "execute_result"
    }
   ],
   "source": [
    "np.round(F@dag(F), 2)"
   ]
  }
 ],
 "metadata": {
  "kernelspec": {
   "display_name": "Python 3.8.13 ('tenpy')",
   "language": "python",
   "name": "python3"
  },
  "language_info": {
   "codemirror_mode": {
    "name": "ipython",
    "version": 3
   },
   "file_extension": ".py",
   "mimetype": "text/x-python",
   "name": "python",
   "nbconvert_exporter": "python",
   "pygments_lexer": "ipython3",
   "version": "3.9.13"
  },
  "orig_nbformat": 4,
  "vscode": {
   "interpreter": {
    "hash": "49275f41c9d5701d0b75ba87a436e3fd8517ce12c0c7166d746376b06016de8a"
   }
  }
 },
 "nbformat": 4,
 "nbformat_minor": 2
}
