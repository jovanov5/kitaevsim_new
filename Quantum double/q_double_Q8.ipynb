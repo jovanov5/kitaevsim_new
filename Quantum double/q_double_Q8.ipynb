{
 "cells": [
  {
   "cell_type": "markdown",
   "metadata": {},
   "source": [
    "# Preamble"
   ]
  },
  {
   "cell_type": "code",
   "execution_count": 56,
   "metadata": {},
   "outputs": [],
   "source": [
    "import numpy as np\n",
    "import itertools"
   ]
  },
  {
   "cell_type": "markdown",
   "metadata": {},
   "source": [
    "Some Matrix functions:"
   ]
  },
  {
   "cell_type": "code",
   "execution_count": 57,
   "metadata": {},
   "outputs": [],
   "source": [
    "def dag(M):\n",
    "    return np.conjugate(M.T)\n",
    "def matInv(M):\n",
    "    return np.linalg.inv(M)\n",
    "def is_eq(A,B):\n",
    "    return np.array_equal(A,B)"
   ]
  },
  {
   "cell_type": "code",
   "execution_count": 58,
   "metadata": {},
   "outputs": [
    {
     "name": "stdout",
     "output_type": "stream",
     "text": [
      "[[ 0.+0.j  0.+1.j]\n",
      " [-0.-1.j  0.+0.j]]\n",
      "True\n"
     ]
    }
   ],
   "source": [
    "A = np.array([[0, 1.j],[-1.j, 0]])\n",
    "print(A)\n",
    "print(is_eq(dag(A), matInv(A)))"
   ]
  },
  {
   "cell_type": "markdown",
   "metadata": {},
   "source": [
    "# Fusion Rules and F- and R- Symbol Calculation\n",
    "\n",
    "## Fusion\n",
    "\n",
    "Using the Verlinde formula to get S-matrix and then using that to extract the fusion rules $N_{\\mathcal{A}\\mathcal{B}}^{\\mathcal{C}}$:\n",
    "\n",
    "$\\mathcal{S}_{\\mathcal{A}\\mathcal{B}} = \\frac{1}{|G|}\\sum_{h_i^A \\in C_A, h_j^B \\in C_B, h^A_i h^B_j = h^B_j h^A_i} \\chi^A((x_i^A)^{-1}h_j^B x_i^A)\\chi^B((x_j^B)^{-1}h_i^A x_j^B)$,\n",
    "\n",
    "where $x_i^A h_1^A(x_i^A)^{-1} = h_1^A$ which is a $C_A$ representative [alt. $q_c r \\bar{q}_c = c$].\n",
    "\n",
    "$N_{\\mathcal{A}\\mathcal{B}}^{\\mathcal{C}} = \\sum_\\mathcal{L} \\frac{\\mathcal{S}_{\\mathcal{A}\\mathcal{L}}\\mathcal{S}_{\\mathcal{B}\\mathcal{L}}\\mathcal{S}_{\\mathcal{C}\\mathcal{L}}^*}{\\mathcal{S}_{\\mathcal{0}\\mathcal{L}}}$.\n",
    "\n",
    "## F- and R-\n",
    "\n",
    "Imagine we hace a space $\\mathcal{H} = \\mathcal{H}_b \\otimes \\mathcal{H}_a$ we can project down to the space of irreducible representations by $\\mathcal{P}_{c}^{ba}(\\ket{c, \\mu}) \\propto \\sum_{h \\in G}\\sum_{z \\in Z(r)}R^\\dag_{\\mu\\mu}(z) B_h^b A_{q_c z \\bar{q}_c}^b \\otimes B_{h^{-1}c}^a A_{q_c z \\bar{q}_c}^a$, where $\\ket{c, \\mu} \\in \\mathcal{H}_c$.\n",
    "\n",
    "This allows us to define the splitting tree map: $\\phi_c^{ba}: \\mathcal{H}_c \\rightarrow \\mathcal{H}_b \\otimes \\mathcal{H}_a$ as $\\phi_c^{ba}(\\ket{c, \\mu}) = \\text{eig}(\\mathcal{P}_{c}^{ba}(\\ket{c, \\mu}), \\lambda = 1) \\times e^{i \\phi(c, \\mu)}$. The phase being set by requiring correct group action of $A_g^{ba} \\circ \\phi_c^{ba} \\circ A_{\\bar{g}}^{c} = \\phi_c^{ba} $.\n",
    "\n",
    "The braiding action $\\mathcal{B}_{ab}: \\mathcal{H}_a\\otimes\\mathcal{H}_b\\rightarrow\\mathcal{H}_b\\otimes\\mathcal{H}_a$ is given by: $Flip \\circ (\\sum_g A_g^a \\otimes B_g^b)$.\n",
    "\n",
    "Combining the two facts we can evaluate the R-symbol as: $\\mathcal{R}_c^{ab} \\propto (\\phi_c^{ba}(\\ket{c, \\mu}))^\\dag\\mathcal{B}_{ab}(\\phi_c^{ab}(\\ket{c, \\mu}))$, with condition $|\\mathcal{R}_c^{ab}| = 1$.\n",
    "\n",
    "### F- Symbol\n",
    "\n",
    "In a similar manner we can calculate the F-symbol as : $(\\mathcal{F}_a^{bcd})_{xy} \\propto (\\phi_y^{cd} \\circ \\phi_a^{by}(\\ket{c,\\mu}))^\\dag\\phi_x^{bc} \\circ \\phi_a^{xd}(\\ket{c,\\mu})$"
   ]
  },
  {
   "cell_type": "markdown",
   "metadata": {},
   "source": [
    "## $Q_8$"
   ]
  },
  {
   "cell_type": "markdown",
   "metadata": {},
   "source": [
    "### Fusion Rule Calculations and Group Def"
   ]
  },
  {
   "cell_type": "code",
   "execution_count": 59,
   "metadata": {},
   "outputs": [],
   "source": [
    "I = np.array([[1.j, 0],[0, -1.j]])\n",
    "J = np.array([[0, -1],[1, 0]])\n",
    "K = np.array([[0, -1.j],[-1.j, 0]])\n",
    "G = np.zeros([2,2,8], complex)\n",
    "G[:,:,0] = np.eye(2) # The Q_8 group\n",
    "G[:,:,1] = -np.eye(2)\n",
    "G[:,:,2] = I\n",
    "G[:,:,3] = -I\n",
    "G[:,:,4] = J\n",
    "G[:,:,5] = -J\n",
    "G[:,:,6] = K\n",
    "G[:,:,7] = -K\n",
    "g_lab = ['1','-1','i','-i','j','-j','k','-k']\n",
    "order = len(g_lab)\n",
    "\n",
    "C_e = np.array([0])  # Conj Classes\n",
    "C_m = np.array([1])\n",
    "C_1 = np.array([2,3])\n",
    "C_2 = np.array([4,5])\n",
    "C_3 = np.array([6,7])\n",
    "# i - 1 ; j - 2 ; k - 3 !!!\n",
    "\n",
    "Z_e = np.array([0, 1, 2, 3, 4, 5, 6, 7])  # Centers Classes\n",
    "Z_m = np.array([0, 1, 2, 3, 4, 5, 6, 7])\n",
    "Z_1 = np.array([0, 2, 1, 3])\n",
    "Z_2 = np.array([0, 4, 1, 5])\n",
    "Z_3 = np.array([0, 6, 1, 7])\n",
    "\n",
    "X_e = np.array([0]) # Coset Representatives q_c\n",
    "X_m = np.array([0])\n",
    "X_1 = np.array([0,4])\n",
    "X_2 = np.array([0,6])\n",
    "X_3 = np.array([0,2])"
   ]
  },
  {
   "cell_type": "code",
   "execution_count": 60,
   "metadata": {},
   "outputs": [],
   "source": [
    "# Def the Reps as Mats\n",
    "def Triv(x):\n",
    "    return np.array([[1]])\n",
    "def A_1(x):\n",
    "    if (x in C_2) or (x in C_3):\n",
    "        return np.array([[-1]])\n",
    "    else:\n",
    "        return np.array([[1]])\n",
    "def A_2(x):\n",
    "    if (x in C_1) or (x in C_3):\n",
    "        return np.array([[-1]])\n",
    "    else:\n",
    "        return np.array([[1]])\n",
    "def A_3(x):\n",
    "    if (x in C_1) or (x in C_2):\n",
    "        return np.array([[-1]])\n",
    "    else:\n",
    "        return np.array([[1]])\n",
    "def E(x):\n",
    "    return G[:,:,x] # the 2d faithful rep\n",
    "def Om_1(x):\n",
    "    if x in [0]:\n",
    "        return np.array([[1]])\n",
    "    elif x in [1]:\n",
    "        return np.array([[-1]])\n",
    "    elif x in [2,4,6]:\n",
    "        return np.array([[1.j]])\n",
    "    elif x in [3,5,7]:\n",
    "        return np.array([[-1.j]])\n",
    "def Om_2(x):\n",
    "    if x in [0]:\n",
    "        return np.array([[1]])\n",
    "    elif x in [1]:\n",
    "        return np.array([[1]])\n",
    "    elif x in [2,4,6]:\n",
    "        return np.array([[-1]])\n",
    "    elif x in [3,5,7]:\n",
    "        return np.array([[-1]])\n",
    "def Om_3(x):\n",
    "    if x in [0]:\n",
    "        return np.array([[1]])\n",
    "    elif x in [1]:\n",
    "        return np.array([[-1]])\n",
    "    elif x in [2,4,6]:\n",
    "        return np.array([[-1.j]])\n",
    "    elif x in [3,5,7]:\n",
    "        return np.array([[1.j]])"
   ]
  },
  {
   "cell_type": "code",
   "execution_count": 61,
   "metadata": {},
   "outputs": [],
   "source": [
    "# Def chars of Reps\n",
    "def triv(x):\n",
    "    return 1\n",
    "def a_1(x):\n",
    "    if (x in C_2) or (x in C_3):\n",
    "        return -1\n",
    "    else:\n",
    "        return 1\n",
    "def a_2(x):\n",
    "    if (x in C_1) or (x in C_3):\n",
    "        return -1\n",
    "    else:\n",
    "        return 1\n",
    "def a_3(x):\n",
    "    if (x in C_1) or (x in C_2):\n",
    "        return -1\n",
    "    else:\n",
    "        return 1\n",
    "def e(x):\n",
    "    if (x in C_e):\n",
    "        return 2\n",
    "    elif (x in C_m):\n",
    "        return -2\n",
    "    else:\n",
    "        return 0\n",
    "def om_1(x):\n",
    "    if x in [0]:\n",
    "        return 1\n",
    "    elif x in [1]:\n",
    "        return -1\n",
    "    elif x in [2,4,6]:\n",
    "        return 1.j\n",
    "    elif x in [3,5,7]:\n",
    "        return -1.j\n",
    "def om_2(x):\n",
    "    if x in [0]:\n",
    "        return 1\n",
    "    elif x in [1]:\n",
    "        return 1\n",
    "    elif x in [2,4,6]:\n",
    "        return -1\n",
    "    elif x in [3,5,7]:\n",
    "        return -1\n",
    "def om_3(x):\n",
    "    if x in [0]:\n",
    "        return 1\n",
    "    elif x in [1]:\n",
    "        return -1\n",
    "    elif x in [2,4,6]:\n",
    "        return -1.j\n",
    "    elif x in [3,5,7]:\n",
    "        return 1.j\n"
   ]
  },
  {
   "cell_type": "code",
   "execution_count": 62,
   "metadata": {},
   "outputs": [],
   "source": [
    "# Def some AUX Info about the reps of D(Q8)\n",
    "Z_s_Q = [Z_e, Z_m, Z_e, Z_e, Z_e, Z_m, Z_m, Z_m, Z_e, Z_m, Z_1, Z_1, Z_1, Z_1, Z_2, Z_2, Z_2, Z_2, Z_3, Z_3, Z_3, Z_3]\n",
    "Dim_s_Q = [1,1,1,1,1,1,1,1,2,2,2,2,2,2,2,2,2,2,2,2,2,2]\n",
    "C_mods_Q = [1,1,1,1,1,1,1,1,1,1,2,2,2,2,2,2,2,2,2,2,2,2]\n",
    "chi_mods_Q = [1,1,1,1,1,1,1,1,2,2,1,1,1,1,1,1,1,1,1,1,1,1]\n",
    "Z_reps_Q = [Triv, Triv, A_1, A_2, A_3, A_1, A_2, A_3, E, E, Triv, Om_1, Om_2, Om_3, Triv, Om_1, Om_2, Om_3, Triv, Om_1, Om_2, Om_3]\n",
    "C_s_Q = [C_e, C_m, C_e, C_e, C_e, C_m, C_m, C_m, C_e, C_m, C_1, C_1, C_1, C_1, C_2, C_2, C_2, C_2, C_3, C_3, C_3, C_3]\n",
    "Z_charges = [triv, triv, a_1, a_2, a_3, a_1, a_2, a_3, e, e, triv, om_1, om_2, om_3, triv, om_1, om_2, om_3, triv, om_1, om_2, om_3]\n",
    "Particles_lab_Q = ['O_e','O_m', '1_e', '2_e', '3_e', '1_m', '2_m', '3_m',\\\n",
    "     'E_e', 'E_m',\\\n",
    "        'OM0_1', 'OM1_1', 'OM2_1', 'OM3_1', \\\n",
    "            'OM0_2', 'OM1_2', 'OM2_2', 'OM3_2', \\\n",
    "                'OM0_3', 'OM1_3', 'OM2_3', 'OM3_3']\n",
    "N_anyons = 22\n",
    "Particles_Q = [(i, Dim_s_Q[i], C_s_Q[i],  C_mods_Q[i], Z_s_Q[i], Z_charges[i], Z_reps_Q[i], chi_mods_Q[i], Particles_lab_Q[i]) for i in range(N_anyons)]"
   ]
  },
  {
   "cell_type": "code",
   "execution_count": 63,
   "metadata": {},
   "outputs": [],
   "source": [
    "# Def Particles and some Fns [GROUP DATA also!]\n",
    "def q(c):\n",
    "    Q_C = [0, 0, 0, 4, 0, 6, 0, 2] # This for q_c instead\n",
    "    return Q_C[c]\n",
    "def grp_i(i):\n",
    "    return matInv(G[:,:,i])\n",
    "\n",
    "def index(h):\n",
    "    for i in range(8): # to be generalised\n",
    "        if np.array_equal(h, G[:,:,i]):\n",
    "            return i\n",
    "\n",
    "def inv(x):\n",
    "    for i in range(8): # to be generalised\n",
    "        if np.array_equal(matInv(G[:,:,x]), G[:,:,i]):\n",
    "            return i\n",
    "\n",
    "def grp(x):\n",
    "    return G[:,:, x] # USE G AS A GLOBAL VAR!!! ---- CAREFUL !\n",
    "\n",
    "S = np.zeros([22,22], complex)\n",
    "for i, _, C_i, _, _, char_i, _, _,_ in Particles_Q:\n",
    "    for j, _, C_j, _, _, char_j, _, _,_ in Particles_Q:\n",
    "        s = 0 \n",
    "        for i_class, elem_i_class in enumerate(C_i):\n",
    "            for j_class, elem_j_class in enumerate(C_j):\n",
    "                if is_eq(grp(elem_i_class)@grp(elem_j_class), grp(elem_j_class)@grp(elem_i_class)):\n",
    "                    s+=char_i(index(grp_i(q(elem_i_class))@grp(elem_j_class)@grp(q(elem_i_class))))*char_j(index(grp_i(q(elem_j_class))@grp(elem_i_class)@grp(q(elem_j_class))))\n",
    "        S[i,j] = s # maybe conj\n",
    "\n",
    "S_Q = S/8\n",
    "# print('\\n'.join([''.join(['{:4}'.format(item) for item in row]) \n",
    "#      for row in S]))\n",
    "N_Q = np.zeros([22,22,22])\n",
    "for I in range(22):\n",
    "    for J in range(22):\n",
    "        for K in range(22):\n",
    "            for L in range(22):\n",
    "                N_Q[I,J,K] += np.real(S_Q[I,L]*S_Q[J,L]*np.conj(S_Q[K,L])/S_Q[0,L])"
   ]
  },
  {
   "cell_type": "markdown",
   "metadata": {},
   "source": [
    "Query the S matrix:"
   ]
  },
  {
   "cell_type": "code",
   "execution_count": 64,
   "metadata": {},
   "outputs": [
    {
     "name": "stdout",
     "output_type": "stream",
     "text": [
      "OM0_1 , OM1_2\n",
      "S_{aa}=(0.5+0j)\n",
      "S_{bb}=(-0.5+0j)\n",
      "S_{ab}=0j\n",
      "S_{ba}=0j\n",
      "S_{0a}=(0.25+0j)\n",
      "S_{a0}=(0.25+0j)\n",
      "S_{0a}=(0.25+0j)\n",
      "S_{a0}=(0.25+0j)\n"
     ]
    }
   ],
   "source": [
    "an_1 = 10\n",
    "an_2 = 15\n",
    "print(Particles_lab_Q[an_1],',', Particles_lab_Q[an_2])\n",
    "print('S_{aa}='+str(S_Q[an_1, an_1]))\n",
    "print('S_{bb}='+str(S_Q[an_2, an_2]))\n",
    "print('S_{ab}='+str(S_Q[an_1, an_2]))\n",
    "print('S_{ba}='+str(S_Q[an_2, an_1]))\n",
    "print('S_{0a}='+str(S_Q[0, an_2]))\n",
    "print('S_{a0}='+str(S_Q[an_2, 0]))\n",
    "print('S_{0a}='+str(S_Q[0, an_1]))\n",
    "print('S_{a0}='+str(S_Q[an_1, 0]))"
   ]
  },
  {
   "cell_type": "markdown",
   "metadata": {},
   "source": [
    "Query the fusion rules:"
   ]
  },
  {
   "cell_type": "code",
   "execution_count": 65,
   "metadata": {},
   "outputs": [
    {
     "name": "stdout",
     "output_type": "stream",
     "text": [
      "OM0_2 x OM0_2 =\n",
      "1 x O_e\n",
      "1 x O_m\n",
      "1 x 2_e\n",
      "1 x 2_m\n"
     ]
    }
   ],
   "source": [
    "i_1 = 14 # Prints fusion rules\n",
    "i_2 = 14\n",
    "print(Particles_lab_Q[i_1],'x', Particles_lab_Q[i_2], '=')\n",
    "for i, indicator in enumerate(N_Q[i_1,i_2,:]):\n",
    "    if indicator != 0:\n",
    "        print(int(indicator),'x', Particles_lab_Q[i])\n",
    "S_r = 8*np.real(S)"
   ]
  },
  {
   "cell_type": "markdown",
   "metadata": {},
   "source": [
    "### Defining $D(Q_8)$ representation matrices\n"
   ]
  },
  {
   "cell_type": "markdown",
   "metadata": {},
   "source": [
    "\n",
    "#### $A_g:$"
   ]
  },
  {
   "cell_type": "code",
   "execution_count": 66,
   "metadata": {},
   "outputs": [],
   "source": [
    "def a_mat(an_type, g):\n",
    "    # Basis is |c \\mu> \n",
    "    (id, d, C, C_mod, Z_set, char, Z_rep, chi_mod, lab) = Particles_Q[an_type]\n",
    "    # use q(c) instead of X set\n",
    "    A = np.zeros([d, d], dtype=complex)\n",
    "    for i_c, c in enumerate(C):\n",
    "        for mu in range(chi_mod):\n",
    "            for i_cp, c_prim in enumerate(C):\n",
    "                for nu in range(chi_mod):\n",
    "                    if is_eq(grp(c_prim), grp(g)@grp(c)@grp_i(g)):\n",
    "                        rep_map = Z_rep(index( grp_i(q(c_prim))@grp(g)@grp(q(c)) ))\n",
    "                        mat_elem = rep_map[mu,nu]\n",
    "                        A[i_cp*chi_mod+nu, i_c*chi_mod+mu]=mat_elem\n",
    "    return A\n"
   ]
  },
  {
   "cell_type": "markdown",
   "metadata": {},
   "source": [
    "#### $B_h:$"
   ]
  },
  {
   "cell_type": "code",
   "execution_count": 67,
   "metadata": {},
   "outputs": [],
   "source": [
    "def b_mat(an_type, g):\n",
    "    # Basis is |c \\mu> \n",
    "    (id, d, C, C_mod, Z_set, char, Z_rep, chi_mod, lab) = Particles_Q[an_type]\n",
    "    # use q(c) instead of X set\n",
    "    B = np.zeros([d, d], dtype=complex)\n",
    "    for i_c, c in enumerate(C):\n",
    "        for mu in range(chi_mod):        \n",
    "            if g == c:\n",
    "                B[i_c*chi_mod+mu, i_c*chi_mod+mu]=1\n",
    "    return B"
   ]
  },
  {
   "cell_type": "markdown",
   "metadata": {},
   "source": [
    "#### Query the Matrices:"
   ]
  },
  {
   "cell_type": "code",
   "execution_count": 68,
   "metadata": {},
   "outputs": [
    {
     "name": "stdout",
     "output_type": "stream",
     "text": [
      "OM1_1\n",
      "-1\n",
      "[[-1.+0.j  0.+0.j]\n",
      " [ 0.+0.j -1.+0.j]]\n",
      "[[0.+0.j 0.+0.j]\n",
      " [0.+0.j 0.+0.j]]\n"
     ]
    }
   ],
   "source": [
    "an = 11\n",
    "g = 1\n",
    "print(Particles_lab_Q[an])\n",
    "print(g_lab[g])\n",
    "print(a_mat(an, g))\n",
    "print(b_mat(an, g))"
   ]
  },
  {
   "cell_type": "markdown",
   "metadata": {},
   "source": [
    "### The fusion projectors and plitting tree maps"
   ]
  },
  {
   "cell_type": "code",
   "execution_count": 69,
   "metadata": {},
   "outputs": [],
   "source": [
    "def fusion_products(an_1, an_2):\n",
    "    res = []\n",
    "    for i, indicator in enumerate(N_Q[an_1,an_2,:]):\n",
    "        if indicator != 0:\n",
    "            res += [i]\n",
    "    return res\n",
    "\n",
    "def do_they_fuse(an_1, an_2, an_3):\n",
    "    return an_3 in fusion_products(an_1, an_2)\n",
    "\n",
    "def proj_norm(P):\n",
    "    a = np.trace(P)\n",
    "    b = np.trace(P@P)\n",
    "    return P*a/b\n",
    "\n",
    "def splitting_tree(an_1, an_2, an_3, id): #Only good if id = 0\n",
    "    Pro = rep_proj_spec(an_1, an_2, an_3, id)\n",
    "    w, v = np.linalg.eigh(Pro)\n",
    "    for i_lam, lam in enumerate(w):\n",
    "        if lam == 1:\n",
    "            Vec = v[:,i_lam]\n",
    "    return Vec\n",
    "\n",
    "def splitting_tree_proper(an_1, an_2, an_3): #Returns a properlt gauge fixed basis\n",
    "    (_, d_3, _, _, _, _, _, _, _) = Particles_Q[an_3]\n",
    "    (_, d_2, _, _, _, _, _, _, _) = Particles_Q[an_2]\n",
    "    (_, d_1, _, _, _, _, _, _, _) = Particles_Q[an_1]\n",
    "    Basis_unfixed = []\n",
    "    order = np.size(G[0,0,:])\n",
    "    for i_3 in range(d_3):\n",
    "        Basis_unfixed += [splitting_tree(an_1, an_2, an_3, i_3)]\n",
    "    Basis_fixed = Basis_unfixed\n",
    "    if d_3 == 1:\n",
    "        return Basis_fixed\n",
    "    else:\n",
    "        for i_3 in range(1,d_3):\n",
    "            not_done = 1\n",
    "            for g in range(order):\n",
    "                if not_done:\n",
    "                    Vec_3 = np.zeros([d_1*d_2], dtype=complex)\n",
    "                    for mat_mul in range(d_3):\n",
    "                        Vec_3 += a_mat(an_3, g)[0,mat_mul]*Basis_unfixed[mat_mul]\n",
    "                    Vec_12 = np.kron(a_mat(an_1, g), a_mat(an_2, g))@Basis_unfixed[0]\n",
    "                    overlap_12 = np.vdot(Basis_unfixed[i_3], Vec_3)\n",
    "                    overlap_3 = np.vdot(Basis_unfixed[i_3], Vec_12)\n",
    "                    if overlap_12 != 0 and overlap_3 != 0:\n",
    "                        Basis_fixed[i_3] = Basis_unfixed[i_3]*overlap_12/overlap_3\n",
    "                        not_done = 0\n",
    "    return Basis_fixed\n",
    "\n",
    "\n",
    "\n",
    "\n",
    "def rep_proj(an_1, an_2, an_3):\n",
    "    (id_3, _, C_3, _, Z_3, char_3, Z_rep_3, chi_mod_3, _) = Particles_Q[an_3]\n",
    "    (_, d_2, _, _, _, _, _, _, _) = Particles_Q[an_2]\n",
    "    (_, d_1, _, _, _, _, _, _, _) = Particles_Q[an_1]\n",
    "    Res = np.zeros([d_1*d_2,d_1*d_2], dtype=complex)\n",
    "    for c in C_3:\n",
    "        for z in Z_3:\n",
    "            for h in range(8):\n",
    "                Res += np.conjugate(char_3(z))*np.kron( b_mat(an_1, index( grp_i(h)@grp(c) ) ) @ a_mat(an_1,index( grp(q(c))@grp(z)@grp_i(q(c)) )),\n",
    "                b_mat(an_2,h) @ a_mat(an_2,index( grp(q(c))@grp(z)@grp_i(q(c)) )) )\n",
    "    return proj_norm(Res) # Normalisation issues :(\n",
    "\n",
    "def rep_proj_spec(an_1, an_2, an_3, id):# Basis is |c \\mu> # NOT SURE if the FORM is correct \n",
    "    (id_3, _, C_3, _, Z_3, char_3, Z_rep_3, chi_mod_3, _) = Particles_Q[an_3]\n",
    "    (_, d_2, _, _, _, _, _, _, _) = Particles_Q[an_2]\n",
    "    (_, d_1, _, _, _, _, _, _, _) = Particles_Q[an_1]\n",
    "    Res = np.zeros([d_1*d_2,d_1*d_2], dtype=complex)\n",
    "    i_c = int(np.floor(id/chi_mod_3))\n",
    "    c = C_3[i_c]\n",
    "    mu = np.mod(id,chi_mod_3)\n",
    "    for z in Z_3:\n",
    "        for h in range(8):\n",
    "            Res += Z_rep_3(z)[mu,mu].conj()*np.kron( b_mat(an_1, # Investigate does this one work???\n",
    "            index( grp_i(h)@grp(c) ) ) @ a_mat(an_1,\n",
    "            index( grp(q(c))@grp(z)@grp_i(q(c)) )),\n",
    "            b_mat(an_2,h) @ a_mat(an_2,index( grp(q(c))@grp(z)@grp_i(q(c)) )) )\n",
    "    return proj_norm(Res) # Normalisation issues :(\n",
    "\n"
   ]
  },
  {
   "cell_type": "code",
   "execution_count": 70,
   "metadata": {},
   "outputs": [
    {
     "data": {
      "text/plain": [
       "8"
      ]
     },
     "execution_count": 70,
     "metadata": {},
     "output_type": "execute_result"
    }
   ],
   "source": [
    "np.size(G[0,0,:])"
   ]
  },
  {
   "cell_type": "markdown",
   "metadata": {},
   "source": [
    "### The R-sym Calculation:"
   ]
  },
  {
   "cell_type": "code",
   "execution_count": 71,
   "metadata": {},
   "outputs": [],
   "source": [
    "def r_symbol(an_1, an_2, an_3):\n",
    "    (_, d_2, _, _, _, _, _, _, _) = Particles_Q[an_2]\n",
    "    (_, d_1, _, _, _, _, _, _, _) = Particles_Q[an_1]\n",
    "    T = np.zeros([d_1*d_2, d_1*d_2], dtype=complex)\n",
    "    # T_k = np.zeros([d_1*d_2, d_1*d_2], dtype=complex)\n",
    "    for g in range(order):\n",
    "        T += np.kron(a_mat(an_1,g), b_mat(an_2,g))\n",
    "        # T_k += np.kron(b_mat(an_2,g), a_mat(an_1,g))\n",
    "    # print('apply', T)\n",
    "    F = np.zeros([d_1*d_2, d_1*d_2])\n",
    "    for i in range(d_1):\n",
    "        for j in range(d_2):\n",
    "            for m in range(d_2):\n",
    "                for n in range(d_1):\n",
    "                    if i == n and j == m:\n",
    "                        F[m*d_1+n, i*d_2 + j] = 1\n",
    "\n",
    "    # Contrcut the Splitting Tree Basis!\n",
    "    Vec_1 = splitting_tree(an_2, an_1, an_3,0)\n",
    "    Vec_2 = splitting_tree(an_1, an_2, an_3,0) \n",
    "    Vec_2 = F@T@Vec_2 # The other way gives 0\n",
    "    # print(Vec_1)\n",
    "    # print(Vec_2)\n",
    "    overlap = np.round(np.vdot(Vec_1, Vec_2),2) # issue !!!!\n",
    "    # print(Vec_1, Vec_2)\n",
    "    return overlap\n",
    "    \n",
    "def fusion_and_braid(an_1, an_2): # Depends on a lot of outside variables!!!\n",
    "    # print(Particles_lab_Q[an_1],'x', Particles_lab_Q[an_2], '=')\n",
    "    # Reduce text\n",
    "    pr = []\n",
    "    for i, indicator in enumerate(N_Q[an_1,an_2,:]):\n",
    "        if np.round(indicator,1) != 0:\n",
    "            # Calculate the R-Symbol\n",
    "            #print(int(indicator),'x', Particles_lab_Q[i], 'with R_symb', str(r_symbol(an_1,an_2, i)))\n",
    "            pr += [(i, r_symbol(an_1,an_2, i))]\n",
    "    print(an_1, 'x', an_2, '=', pr)\n",
    "    return 0"
   ]
  },
  {
   "cell_type": "markdown",
   "metadata": {},
   "source": [
    "The Results, quesries of fusion and R-symbols:"
   ]
  },
  {
   "cell_type": "code",
   "execution_count": 72,
   "metadata": {},
   "outputs": [
    {
     "name": "stdout",
     "output_type": "stream",
     "text": [
      "21 x 21 = [(0, -1j), (4, 1j), (5, -1j), (6, -1j)]\n"
     ]
    },
    {
     "data": {
      "text/plain": [
       "0"
      ]
     },
     "execution_count": 72,
     "metadata": {},
     "output_type": "execute_result"
    }
   ],
   "source": [
    "fusion_and_braid(21,21)"
   ]
  },
  {
   "cell_type": "code",
   "execution_count": 73,
   "metadata": {},
   "outputs": [],
   "source": [
    "# for an_1, x, y, z in Particles_Q:\n",
    "#     for an_2, xx, yy, zz in Particles_Q:\n",
    "#         fusion_and_braid(an_1, an_2)"
   ]
  },
  {
   "cell_type": "markdown",
   "metadata": {},
   "source": [
    "### F- Symbols \n"
   ]
  },
  {
   "cell_type": "code",
   "execution_count": 74,
   "metadata": {},
   "outputs": [
    {
     "name": "stdout",
     "output_type": "stream",
     "text": [
      "[0, 1, 2, 5]\n",
      "False\n"
     ]
    },
    {
     "data": {
      "text/plain": [
       "array([0., 0.])"
      ]
     },
     "execution_count": 74,
     "metadata": {},
     "output_type": "execute_result"
    }
   ],
   "source": [
    "print(fusion_products(10,10))\n",
    "print(do_they_fuse(10,10,4))\n",
    "np.zeros([2])"
   ]
  },
  {
   "cell_type": "code",
   "execution_count": 75,
   "metadata": {},
   "outputs": [],
   "source": [
    "def f_mat(an_a, an_b, an_c, an_d):\n",
    "    (_, d_a, _, _, _, _, _, _, _) = Particles_Q[an_a]\n",
    "    (_, d_b, _, _, _, _, _, _, _) = Particles_Q[an_b]\n",
    "    (_, d_c, _, _, _, _, _, _, _) = Particles_Q[an_c]\n",
    "    (_, d_d, _, _, _, _, _, _, _) = Particles_Q[an_d]\n",
    "    x_ids = []\n",
    "    y_ids = []\n",
    "    print('x=')\n",
    "    for x in fusion_products(an_b, an_c):\n",
    "        if do_they_fuse(x,an_d,an_a):\n",
    "            x_ids+=[x]\n",
    "            print(Particles_lab_Q[x])\n",
    "    print('y=')\n",
    "    for y in fusion_products(an_c, an_d):\n",
    "        if do_they_fuse(an_b,y,an_a):\n",
    "            y_ids+=[y]\n",
    "            print(Particles_lab_Q[y])\n",
    "    F = np.zeros([len(x_ids), len(y_ids)], dtype=complex)\n",
    "\n",
    "    for i_x, x in enumerate(x_ids):\n",
    "        for i_y, y in enumerate(y_ids):\n",
    "            (_, d_x, _, _, _, _, _, _, _) = Particles_Q[x]\n",
    "            (_, d_y, _, _, _, _, _, _, _) = Particles_Q[y]\n",
    "            i_vec_a = 0\n",
    "            vec_xd = splitting_tree(x, an_d, an_a, i_vec_a)\n",
    "            vec_by = splitting_tree(an_b, y, an_a, i_vec_a)\n",
    "            vec_bcd_via_x = np.zeros([d_a*d_b*d_c], dtype=complex)\n",
    "            vec_bcd_via_y = np.zeros([d_a*d_b*d_c], dtype=complex)\n",
    "            x_basis = splitting_tree_proper(an_b, an_c, x)\n",
    "            y_basis = splitting_tree_proper(an_c, an_d, y)\n",
    "            for id_x in range(d_x):\n",
    "                for id_d in range(d_d):\n",
    "                    e_d = np.zeros([d_d])\n",
    "                    e_d[id_d] = 1\n",
    "                    vec_bcd_via_x += vec_xd[id_x*d_d + id_d]*np.kron(x_basis[id_x] ,e_d)\n",
    "            for id_y in range(d_y):\n",
    "                for id_b in range(d_b):\n",
    "                    e_b = np.zeros([d_b])\n",
    "                    e_b[id_b] = 1\n",
    "                    vec_bcd_via_y += vec_by[id_b*d_y + id_y]*np.kron(e_b,y_basis[id_y])\n",
    "            F[i_x, i_y] += np.vdot(vec_bcd_via_y, vec_bcd_via_x)\n",
    "    F = np.round(F, 2)\n",
    "    print('F=',F)\n",
    "    return F\n",
    "\n",
    "    "
   ]
  },
  {
   "cell_type": "code",
   "execution_count": 76,
   "metadata": {},
   "outputs": [],
   "source": [
    "def f_mat_elem(an_a, an_b, an_c, an_d, x, y, i_vec_a): # use to debug\n",
    "    (_, d_a, _, _, _, _, _, _, _) = Particles_Q[an_a]\n",
    "    (_, d_b, _, _, _, _, _, _, _) = Particles_Q[an_b]\n",
    "    (_, d_c, _, _, _, _, _, _, _) = Particles_Q[an_c]\n",
    "    (_, d_d, _, _, _, _, _, _, _) = Particles_Q[an_d]\n",
    "    F = 0.j\n",
    "    (_, d_x, _, _, _, _, _, _, _) = Particles_Q[x]\n",
    "    (_, d_y, _, _, _, _, _, _, _) = Particles_Q[y]\n",
    "    vec_xd = splitting_tree(x, an_d, an_a, i_vec_a)\n",
    "    vec_by = splitting_tree(an_b, y, an_a, i_vec_a)\n",
    "    vec_bcd_via_x = np.zeros([d_a*d_b*d_c], dtype=complex)\n",
    "    vec_bcd_via_y = np.zeros([d_a*d_b*d_c], dtype=complex)\n",
    "    x_basis = splitting_tree_proper(an_b, an_c, x)\n",
    "    y_basis = splitting_tree_proper(an_c, an_d, y)\n",
    "    for id_x in range(d_x):\n",
    "        for id_d in range(d_d):\n",
    "            e_d = np.zeros([d_d])\n",
    "            e_d[id_d] = 1\n",
    "            vec_bcd_via_x += vec_xd[id_x*d_d + id_d]*np.kron(x_basis[id_x] ,e_d)\n",
    "    for id_y in range(d_y):\n",
    "        for id_b in range(d_b):\n",
    "            e_b = np.zeros([d_b])\n",
    "            e_b[id_b] = 1\n",
    "            vec_bcd_via_y += vec_by[id_b*d_y + id_y]*np.kron(e_b, y_basis[id_y])\n",
    "    print('x up', np.round(np.real(vec_bcd_via_x),2))\n",
    "    print('y down',np.round(np.real(vec_bcd_via_y), 2))\n",
    "    F += np.vdot(vec_bcd_via_x, vec_bcd_via_y)\n",
    "    F = np.round(F, 2)\n",
    "    return F\n",
    "\n",
    "    "
   ]
  },
  {
   "cell_type": "markdown",
   "metadata": {},
   "source": [
    "Query the F-matrices"
   ]
  },
  {
   "cell_type": "code",
   "execution_count": 77,
   "metadata": {},
   "outputs": [
    {
     "name": "stdout",
     "output_type": "stream",
     "text": [
      "x=\n",
      "O_e\n",
      "O_m\n",
      "y=\n",
      "OM0_3\n",
      "OM2_3\n",
      "F= [[-0.71+0.j -0.71+0.j]\n",
      " [ 0.71+0.j -0.71+0.j]]\n"
     ]
    }
   ],
   "source": [
    "F = f_mat(10, 14, 14, 10)"
   ]
  },
  {
   "cell_type": "code",
   "execution_count": 78,
   "metadata": {},
   "outputs": [
    {
     "data": {
      "text/plain": [
       "array([[1.01+0.j, 0.  +0.j],\n",
       "       [0.  +0.j, 1.01+0.j]])"
      ]
     },
     "execution_count": 78,
     "metadata": {},
     "output_type": "execute_result"
    }
   ],
   "source": [
    "np.round(F@dag(F), 2)"
   ]
  },
  {
   "cell_type": "code",
   "execution_count": 79,
   "metadata": {},
   "outputs": [
    {
     "name": "stdout",
     "output_type": "stream",
     "text": [
      "x up [-0.5  0.   0.   0.5  0.  -0.5  0.5  0. ]\n",
      "y down [ 0.5  0.   0.  -0.5  0.   0.5 -0.5  0. ]\n"
     ]
    },
    {
     "data": {
      "text/plain": [
       "(-1+0j)"
      ]
     },
     "execution_count": 79,
     "metadata": {},
     "output_type": "execute_result"
    }
   ],
   "source": [
    "f_mat_elem(14,10,14,10,20,20,0)"
   ]
  }
 ],
 "metadata": {
  "kernelspec": {
   "display_name": "Python 3.8.13 ('tenpy')",
   "language": "python",
   "name": "python3"
  },
  "language_info": {
   "codemirror_mode": {
    "name": "ipython",
    "version": 3
   },
   "file_extension": ".py",
   "mimetype": "text/x-python",
   "name": "python",
   "nbconvert_exporter": "python",
   "pygments_lexer": "ipython3",
   "version": "3.9.13"
  },
  "orig_nbformat": 4,
  "vscode": {
   "interpreter": {
    "hash": "49275f41c9d5701d0b75ba87a436e3fd8517ce12c0c7166d746376b06016de8a"
   }
  }
 },
 "nbformat": 4,
 "nbformat_minor": 2
}
