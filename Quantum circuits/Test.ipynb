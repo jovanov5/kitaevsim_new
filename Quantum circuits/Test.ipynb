{
 "cells": [
  {
   "cell_type": "code",
   "execution_count": 10,
   "metadata": {},
   "outputs": [
    {
     "ename": "TypeError",
     "evalue": "'ABCMeta' object is not subscriptable",
     "output_type": "error",
     "traceback": [
      "\u001b[0;31m---------------------------------------------------------------------------\u001b[0m",
      "\u001b[0;31mTypeError\u001b[0m                                 Traceback (most recent call last)",
      "\u001b[0;32m/var/folders/jp/3pg31pr14qv9d64r8h1jy0mc0000gn/T/ipykernel_22283/2928523838.py\u001b[0m in \u001b[0;36m<module>\u001b[0;34m\u001b[0m\n\u001b[1;32m      3\u001b[0m \u001b[0;32mimport\u001b[0m \u001b[0mcirq\u001b[0m\u001b[0;34m\u001b[0m\u001b[0;34m\u001b[0m\u001b[0m\n\u001b[1;32m      4\u001b[0m \u001b[0;32mimport\u001b[0m \u001b[0mmatplotlib\u001b[0m\u001b[0;34m.\u001b[0m\u001b[0mpyplot\u001b[0m \u001b[0;32mas\u001b[0m \u001b[0mplt\u001b[0m\u001b[0;34m\u001b[0m\u001b[0;34m\u001b[0m\u001b[0m\n\u001b[0;32m----> 5\u001b[0;31m \u001b[0;32mimport\u001b[0m \u001b[0mqsimcirq\u001b[0m\u001b[0;34m\u001b[0m\u001b[0;34m\u001b[0m\u001b[0m\n\u001b[0m",
      "\u001b[0;32m~/anaconda3/lib/python3.7/site-packages/qsimcirq/__init__.py\u001b[0m in \u001b[0;36m<module>\u001b[0;34m\u001b[0m\n\u001b[1;32m     54\u001b[0m \u001b[0;34m\u001b[0m\u001b[0m\n\u001b[1;32m     55\u001b[0m \u001b[0;32mfrom\u001b[0m \u001b[0;34m.\u001b[0m\u001b[0mqsim_circuit\u001b[0m \u001b[0;32mimport\u001b[0m \u001b[0madd_op_to_opstring\u001b[0m\u001b[0;34m,\u001b[0m \u001b[0madd_op_to_circuit\u001b[0m\u001b[0;34m,\u001b[0m \u001b[0mQSimCircuit\u001b[0m\u001b[0;34m\u001b[0m\u001b[0;34m\u001b[0m\u001b[0m\n\u001b[0;32m---> 56\u001b[0;31m \u001b[0;32mfrom\u001b[0m \u001b[0;34m.\u001b[0m\u001b[0mqsim_simulator\u001b[0m \u001b[0;32mimport\u001b[0m \u001b[0mQSimOptions\u001b[0m\u001b[0;34m,\u001b[0m \u001b[0mQSimSimulator\u001b[0m\u001b[0;34m\u001b[0m\u001b[0;34m\u001b[0m\u001b[0m\n\u001b[0m\u001b[1;32m     57\u001b[0m \u001b[0;32mfrom\u001b[0m \u001b[0;34m.\u001b[0m\u001b[0mqsimh_simulator\u001b[0m \u001b[0;32mimport\u001b[0m \u001b[0mQSimhSimulator\u001b[0m\u001b[0;34m\u001b[0m\u001b[0;34m\u001b[0m\u001b[0m\n\u001b[1;32m     58\u001b[0m \u001b[0;34m\u001b[0m\u001b[0m\n",
      "\u001b[0;32m~/anaconda3/lib/python3.7/site-packages/qsimcirq/qsim_simulator.py\u001b[0m in \u001b[0;36m<module>\u001b[0;34m\u001b[0m\n\u001b[1;32m    128\u001b[0m     \u001b[0mcirq\u001b[0m\u001b[0;34m.\u001b[0m\u001b[0mSimulatesSamples\u001b[0m\u001b[0;34m,\u001b[0m\u001b[0;34m\u001b[0m\u001b[0;34m\u001b[0m\u001b[0m\n\u001b[1;32m    129\u001b[0m     \u001b[0mcirq\u001b[0m\u001b[0;34m.\u001b[0m\u001b[0mSimulatesAmplitudes\u001b[0m\u001b[0;34m,\u001b[0m\u001b[0;34m\u001b[0m\u001b[0;34m\u001b[0m\u001b[0m\n\u001b[0;32m--> 130\u001b[0;31m     \u001b[0mcirq\u001b[0m\u001b[0;34m.\u001b[0m\u001b[0mSimulatesFinalState\u001b[0m\u001b[0;34m[\u001b[0m\u001b[0mcirq\u001b[0m\u001b[0;34m.\u001b[0m\u001b[0mStateVectorTrialResult\u001b[0m\u001b[0;34m]\u001b[0m\u001b[0;34m,\u001b[0m\u001b[0;34m\u001b[0m\u001b[0;34m\u001b[0m\u001b[0m\n\u001b[0m\u001b[1;32m    131\u001b[0m     \u001b[0mcirq\u001b[0m\u001b[0;34m.\u001b[0m\u001b[0mSimulatesExpectationValues\u001b[0m\u001b[0;34m,\u001b[0m\u001b[0;34m\u001b[0m\u001b[0;34m\u001b[0m\u001b[0m\n\u001b[1;32m    132\u001b[0m ):\n",
      "\u001b[0;31mTypeError\u001b[0m: 'ABCMeta' object is not subscriptable"
     ]
    }
   ],
   "execution_count": 8,
   "metadata": {},
   "outputs": [
    {
     "ename": "AttributeError",
     "evalue": "module 'cirq.circuits.circuit' has no attribute '_DEVICE_DEP_MESSAGE'",
     "output_type": "error",
     "traceback": [
      "\u001b[1;31m---------------------------------------------------------------------------\u001b[0m",
      "\u001b[1;31mAttributeError\u001b[0m                            Traceback (most recent call last)",
      "\u001b[1;32mc:\\Users\\Jovan Jovanovic\\CodingProjects\\kitaevsim\\Quantum circuits\\Test.ipynb Cell 1\u001b[0m in \u001b[0;36m<cell line: 5>\u001b[1;34m()\u001b[0m\n\u001b[0;32m      <a href='vscode-notebook-cell:/c%3A/Users/Jovan%20Jovanovic/CodingProjects/kitaevsim/Quantum%20circuits/Test.ipynb#ch0000000?line=2'>3</a>\u001b[0m \u001b[39mimport\u001b[39;00m \u001b[39mcirq\u001b[39;00m\n\u001b[0;32m      <a href='vscode-notebook-cell:/c%3A/Users/Jovan%20Jovanovic/CodingProjects/kitaevsim/Quantum%20circuits/Test.ipynb#ch0000000?line=3'>4</a>\u001b[0m \u001b[39mimport\u001b[39;00m \u001b[39mmatplotlib\u001b[39;00m\u001b[39m.\u001b[39;00m\u001b[39mpyplot\u001b[39;00m \u001b[39mas\u001b[39;00m \u001b[39mplt\u001b[39;00m\n\u001b[1;32m----> <a href='vscode-notebook-cell:/c%3A/Users/Jovan%20Jovanovic/CodingProjects/kitaevsim/Quantum%20circuits/Test.ipynb#ch0000000?line=4'>5</a>\u001b[0m \u001b[39mimport\u001b[39;00m \u001b[39mcirq_google\u001b[39;00m\n\u001b[0;32m      <a href='vscode-notebook-cell:/c%3A/Users/Jovan%20Jovanovic/CodingProjects/kitaevsim/Quantum%20circuits/Test.ipynb#ch0000000?line=5'>6</a>\u001b[0m \u001b[39mimport\u001b[39;00m \u001b[39mqsimcirq\u001b[39;00m\n",
      "File \u001b[1;32mc:\\Pyhton\\Anaconda3\\envs\\tenpy\\lib\\site-packages\\cirq_google\\__init__.py:25\u001b[0m, in \u001b[0;36m<module>\u001b[1;34m\u001b[0m\n\u001b[0;32m     19\u001b[0m \u001b[39mfrom\u001b[39;00m \u001b[39mcirq_google\u001b[39;00m \u001b[39mimport\u001b[39;00m api\n\u001b[0;32m     21\u001b[0m \u001b[39mfrom\u001b[39;00m \u001b[39mcirq_google\u001b[39;00m\u001b[39m.\u001b[39;00m\u001b[39m_version\u001b[39;00m \u001b[39mimport\u001b[39;00m (\n\u001b[0;32m     22\u001b[0m     __version__,\n\u001b[0;32m     23\u001b[0m )\n\u001b[1;32m---> 25\u001b[0m \u001b[39mfrom\u001b[39;00m \u001b[39mcirq_google\u001b[39;00m\u001b[39m.\u001b[39;00m\u001b[39mcalibration\u001b[39;00m \u001b[39mimport\u001b[39;00m (\n\u001b[0;32m     26\u001b[0m     ALL_ANGLES_FLOQUET_PHASED_FSIM_CHARACTERIZATION,\n\u001b[0;32m     27\u001b[0m     CircuitWithCalibration,\n\u001b[0;32m     28\u001b[0m     FloquetPhasedFSimCalibrationOptions,\n\u001b[0;32m     29\u001b[0m     FloquetPhasedFSimCalibrationRequest,\n\u001b[0;32m     30\u001b[0m     FSimPhaseCorrections,\n\u001b[0;32m     31\u001b[0m     PhasedFSimCalibrationError,\n\u001b[0;32m     32\u001b[0m     PhasedFSimCalibrationOptions,\n\u001b[0;32m     33\u001b[0m     PhasedFSimCalibrationRequest,\n\u001b[0;32m     34\u001b[0m     PhasedFSimCalibrationResult,\n\u001b[0;32m     35\u001b[0m     PhasedFSimCharacterization,\n\u001b[0;32m     36\u001b[0m     PhasedFSimEngineSimulator,\n\u001b[0;32m     37\u001b[0m     XEBPhasedFSimCalibrationOptions,\n\u001b[0;32m     38\u001b[0m     XEBPhasedFSimCalibrationRequest,\n\u001b[0;32m     39\u001b[0m     LocalXEBPhasedFSimCalibrationOptions,\n\u001b[0;32m     40\u001b[0m     LocalXEBPhasedFSimCalibrationRequest,\n\u001b[0;32m     41\u001b[0m     SQRT_ISWAP_INV_PARAMETERS,\n\u001b[0;32m     42\u001b[0m     THETA_ZETA_GAMMA_FLOQUET_PHASED_FSIM_CHARACTERIZATION,\n\u001b[0;32m     43\u001b[0m     make_zeta_chi_gamma_compensation_for_moments,\n\u001b[0;32m     44\u001b[0m     make_zeta_chi_gamma_compensation_for_operations,\n\u001b[0;32m     45\u001b[0m     merge_matching_results,\n\u001b[0;32m     46\u001b[0m     prepare_floquet_characterization_for_moments,\n\u001b[0;32m     47\u001b[0m     prepare_characterization_for_moments,\n\u001b[0;32m     48\u001b[0m     prepare_floquet_characterization_for_moment,\n\u001b[0;32m     49\u001b[0m     prepare_characterization_for_moment,\n\u001b[0;32m     50\u001b[0m     prepare_floquet_characterization_for_operations,\n\u001b[0;32m     51\u001b[0m     prepare_characterization_for_operations,\n\u001b[0;32m     52\u001b[0m     run_calibrations,\n\u001b[0;32m     53\u001b[0m     run_floquet_characterization_for_moments,\n\u001b[0;32m     54\u001b[0m     run_zeta_chi_gamma_compensation_for_moments,\n\u001b[0;32m     55\u001b[0m     try_convert_sqrt_iswap_to_fsim,\n\u001b[0;32m     56\u001b[0m     WITHOUT_CHI_FLOQUET_PHASED_FSIM_CHARACTERIZATION,\n\u001b[0;32m     57\u001b[0m )\n\u001b[0;32m     59\u001b[0m \u001b[39mfrom\u001b[39;00m \u001b[39mcirq_google\u001b[39;00m\u001b[39m.\u001b[39;00m\u001b[39mdevices\u001b[39;00m \u001b[39mimport\u001b[39;00m (\n\u001b[0;32m     60\u001b[0m     Bristlecone,\n\u001b[0;32m     61\u001b[0m     Foxtail,\n\u001b[1;32m   (...)\u001b[0m\n\u001b[0;32m     65\u001b[0m     XmonDevice,\n\u001b[0;32m     66\u001b[0m )\n\u001b[0;32m     68\u001b[0m \u001b[39mfrom\u001b[39;00m \u001b[39mcirq_google\u001b[39;00m\u001b[39m.\u001b[39;00m\u001b[39mengine\u001b[39;00m \u001b[39mimport\u001b[39;00m (\n\u001b[0;32m     69\u001b[0m     Calibration,\n\u001b[0;32m     70\u001b[0m     CalibrationLayer,\n\u001b[1;32m   (...)\u001b[0m\n\u001b[0;32m     82\u001b[0m     get_engine_sampler,\n\u001b[0;32m     83\u001b[0m )\n",
      "File \u001b[1;32mc:\\Pyhton\\Anaconda3\\envs\\tenpy\\lib\\site-packages\\cirq_google\\calibration\\__init__.py:15\u001b[0m, in \u001b[0;36m<module>\u001b[1;34m\u001b[0m\n\u001b[0;32m      1\u001b[0m \u001b[39m# Copyright 2021 The Cirq Developers\u001b[39;00m\n\u001b[0;32m      2\u001b[0m \u001b[39m#\u001b[39;00m\n\u001b[0;32m      3\u001b[0m \u001b[39m# Licensed under the Apache License, Version 2.0 (the \"License\");\u001b[39;00m\n\u001b[1;32m   (...)\u001b[0m\n\u001b[0;32m     12\u001b[0m \u001b[39m# See the License for the specific language governing permissions and\u001b[39;00m\n\u001b[0;32m     13\u001b[0m \u001b[39m# limitations under the License.\u001b[39;00m\n\u001b[1;32m---> 15\u001b[0m \u001b[39mfrom\u001b[39;00m \u001b[39mcirq_google\u001b[39;00m\u001b[39m.\u001b[39;00m\u001b[39mcalibration\u001b[39;00m\u001b[39m.\u001b[39;00m\u001b[39mengine_simulator\u001b[39;00m \u001b[39mimport\u001b[39;00m (\n\u001b[0;32m     16\u001b[0m     PhasedFSimEngineSimulator,\n\u001b[0;32m     17\u001b[0m )\n\u001b[0;32m     19\u001b[0m \u001b[39mfrom\u001b[39;00m \u001b[39mcirq_google\u001b[39;00m\u001b[39m.\u001b[39;00m\u001b[39mcalibration\u001b[39;00m\u001b[39m.\u001b[39;00m\u001b[39mphased_fsim\u001b[39;00m \u001b[39mimport\u001b[39;00m (\n\u001b[0;32m     20\u001b[0m     ALL_ANGLES_FLOQUET_PHASED_FSIM_CHARACTERIZATION,\n\u001b[0;32m     21\u001b[0m     FloquetPhasedFSimCalibrationOptions,\n\u001b[1;32m   (...)\u001b[0m\n\u001b[0;32m     38\u001b[0m     try_convert_syc_or_sqrt_iswap_to_fsim,\n\u001b[0;32m     39\u001b[0m )\n\u001b[0;32m     41\u001b[0m \u001b[39mfrom\u001b[39;00m \u001b[39mcirq_google\u001b[39;00m\u001b[39m.\u001b[39;00m\u001b[39mcalibration\u001b[39;00m\u001b[39m.\u001b[39;00m\u001b[39mworkflow\u001b[39;00m \u001b[39mimport\u001b[39;00m (\n\u001b[0;32m     42\u001b[0m     CircuitWithCalibration,\n\u001b[0;32m     43\u001b[0m     FSimPhaseCorrections,\n\u001b[1;32m   (...)\u001b[0m\n\u001b[0;32m     54\u001b[0m     run_zeta_chi_gamma_compensation_for_moments,\n\u001b[0;32m     55\u001b[0m )\n",
      "File \u001b[1;32mc:\\Pyhton\\Anaconda3\\envs\\tenpy\\lib\\site-packages\\cirq_google\\calibration\\engine_simulator.py:19\u001b[0m, in \u001b[0;36m<module>\u001b[1;34m\u001b[0m\n\u001b[0;32m     17\u001b[0m \u001b[39mimport\u001b[39;00m \u001b[39mcirq\u001b[39;00m\n\u001b[0;32m     18\u001b[0m \u001b[39mfrom\u001b[39;00m \u001b[39mcirq\u001b[39;00m \u001b[39mimport\u001b[39;00m value\n\u001b[1;32m---> 19\u001b[0m \u001b[39mfrom\u001b[39;00m \u001b[39mcirq_google\u001b[39;00m\u001b[39m.\u001b[39;00m\u001b[39mcalibration\u001b[39;00m\u001b[39m.\u001b[39;00m\u001b[39mphased_fsim\u001b[39;00m \u001b[39mimport\u001b[39;00m (\n\u001b[0;32m     20\u001b[0m     FloquetPhasedFSimCalibrationRequest,\n\u001b[0;32m     21\u001b[0m     PhaseCalibratedFSimGate,\n\u001b[0;32m     22\u001b[0m     IncompatibleMomentError,\n\u001b[0;32m     23\u001b[0m     PhasedFSimCalibrationRequest,\n\u001b[0;32m     24\u001b[0m     PhasedFSimCalibrationResult,\n\u001b[0;32m     25\u001b[0m     PhasedFSimCharacterization,\n\u001b[0;32m     26\u001b[0m     SQRT_ISWAP_INV_PARAMETERS,\n\u001b[0;32m     27\u001b[0m     try_convert_gate_to_fsim,\n\u001b[0;32m     28\u001b[0m     try_convert_sqrt_iswap_to_fsim,\n\u001b[0;32m     29\u001b[0m )\n\u001b[0;32m     31\u001b[0m ParametersDriftGenerator \u001b[39m=\u001b[39m Callable[[cirq\u001b[39m.\u001b[39mQid, cirq\u001b[39m.\u001b[39mQid, cirq\u001b[39m.\u001b[39mFSimGate], PhasedFSimCharacterization]\n\u001b[0;32m     32\u001b[0m PhasedFsimDictParameters \u001b[39m=\u001b[39m Dict[\n\u001b[0;32m     33\u001b[0m     Tuple[cirq\u001b[39m.\u001b[39mQid, cirq\u001b[39m.\u001b[39mQid], Union[Dict[\u001b[39mstr\u001b[39m, \u001b[39mfloat\u001b[39m], PhasedFSimCharacterization]\n\u001b[0;32m     34\u001b[0m ]\n",
      "File \u001b[1;32mc:\\Pyhton\\Anaconda3\\envs\\tenpy\\lib\\site-packages\\cirq_google\\calibration\\phased_fsim.py:44\u001b[0m, in \u001b[0;36m<module>\u001b[1;34m\u001b[0m\n\u001b[0;32m     40\u001b[0m \u001b[39mfrom\u001b[39;00m \u001b[39mcirq\u001b[39;00m\u001b[39m.\u001b[39;00m\u001b[39mexperiments\u001b[39;00m\u001b[39m.\u001b[39;00m\u001b[39mxeb_fitting\u001b[39;00m \u001b[39mimport\u001b[39;00m (\n\u001b[0;32m     41\u001b[0m     XEBPhasedFSimCharacterizationOptions,\n\u001b[0;32m     42\u001b[0m )\n\u001b[0;32m     43\u001b[0m \u001b[39mfrom\u001b[39;00m \u001b[39mcirq_google\u001b[39;00m\u001b[39m.\u001b[39;00m\u001b[39mapi\u001b[39;00m \u001b[39mimport\u001b[39;00m v2\n\u001b[1;32m---> 44\u001b[0m \u001b[39mfrom\u001b[39;00m \u001b[39mcirq_google\u001b[39;00m\u001b[39m.\u001b[39;00m\u001b[39mengine\u001b[39;00m \u001b[39mimport\u001b[39;00m Calibration, CalibrationLayer, CalibrationResult, Engine, EngineJob\n\u001b[0;32m     45\u001b[0m \u001b[39mfrom\u001b[39;00m \u001b[39mcirq_google\u001b[39;00m\u001b[39m.\u001b[39;00m\u001b[39mops\u001b[39;00m \u001b[39mimport\u001b[39;00m FSimGateFamily\n\u001b[0;32m     47\u001b[0m \u001b[39mif\u001b[39;00m TYPE_CHECKING:\n",
      "File \u001b[1;32mc:\\Pyhton\\Anaconda3\\envs\\tenpy\\lib\\site-packages\\cirq_google\\engine\\__init__.py:18\u001b[0m, in \u001b[0;36m<module>\u001b[1;34m\u001b[0m\n\u001b[0;32m      1\u001b[0m \u001b[39m# Copyright 2018 The Cirq Developers\u001b[39;00m\n\u001b[0;32m      2\u001b[0m \u001b[39m#\u001b[39;00m\n\u001b[0;32m      3\u001b[0m \u001b[39m# Licensed under the Apache License, Version 2.0 (the \"License\");\u001b[39;00m\n\u001b[1;32m   (...)\u001b[0m\n\u001b[0;32m     12\u001b[0m \u001b[39m# See the License for the specific language governing permissions and\u001b[39;00m\n\u001b[0;32m     13\u001b[0m \u001b[39m# limitations under the License.\u001b[39;00m\n\u001b[0;32m     15\u001b[0m \u001b[39m\"\"\"Client for running on Google's Quantum Engine.\u001b[39;00m\n\u001b[0;32m     16\u001b[0m \u001b[39m\"\"\"\u001b[39;00m\n\u001b[1;32m---> 18\u001b[0m \u001b[39mfrom\u001b[39;00m \u001b[39mcirq_google\u001b[39;00m\u001b[39m.\u001b[39;00m\u001b[39mengine\u001b[39;00m\u001b[39m.\u001b[39;00m\u001b[39mabstract_engine\u001b[39;00m \u001b[39mimport\u001b[39;00m (\n\u001b[0;32m     19\u001b[0m     AbstractEngine,\n\u001b[0;32m     20\u001b[0m )\n\u001b[0;32m     22\u001b[0m \u001b[39mfrom\u001b[39;00m \u001b[39mcirq_google\u001b[39;00m\u001b[39m.\u001b[39;00m\u001b[39mengine\u001b[39;00m\u001b[39m.\u001b[39;00m\u001b[39mabstract_job\u001b[39;00m \u001b[39mimport\u001b[39;00m (\n\u001b[0;32m     23\u001b[0m     AbstractJob,\n\u001b[0;32m     24\u001b[0m )\n\u001b[0;32m     26\u001b[0m \u001b[39mfrom\u001b[39;00m \u001b[39mcirq_google\u001b[39;00m\u001b[39m.\u001b[39;00m\u001b[39mengine\u001b[39;00m\u001b[39m.\u001b[39;00m\u001b[39mabstract_processor\u001b[39;00m \u001b[39mimport\u001b[39;00m (\n\u001b[0;32m     27\u001b[0m     AbstractProcessor,\n\u001b[0;32m     28\u001b[0m )\n",
      "File \u001b[1;32mc:\\Pyhton\\Anaconda3\\envs\\tenpy\\lib\\site-packages\\cirq_google\\engine\\abstract_engine.py:27\u001b[0m, in \u001b[0;36m<module>\u001b[1;34m\u001b[0m\n\u001b[0;32m     25\u001b[0m \u001b[39mfrom\u001b[39;00m \u001b[39mcirq_google\u001b[39;00m\u001b[39m.\u001b[39;00m\u001b[39mengine\u001b[39;00m \u001b[39mimport\u001b[39;00m abstract_job, abstract_program, abstract_processor\n\u001b[0;32m     26\u001b[0m \u001b[39mfrom\u001b[39;00m \u001b[39mcirq_google\u001b[39;00m\u001b[39m.\u001b[39;00m\u001b[39mengine\u001b[39;00m\u001b[39m.\u001b[39;00m\u001b[39mclient\u001b[39;00m \u001b[39mimport\u001b[39;00m quantum\n\u001b[1;32m---> 27\u001b[0m \u001b[39mfrom\u001b[39;00m \u001b[39mcirq_google\u001b[39;00m\u001b[39m.\u001b[39;00m\u001b[39mserialization\u001b[39;00m \u001b[39mimport\u001b[39;00m Serializer\n\u001b[0;32m     29\u001b[0m VALID_DATE_TYPE \u001b[39m=\u001b[39m Union[datetime\u001b[39m.\u001b[39mdatetime, datetime\u001b[39m.\u001b[39mdate]\n\u001b[0;32m     32\u001b[0m \u001b[39mclass\u001b[39;00m \u001b[39mAbstractEngine\u001b[39;00m(abc\u001b[39m.\u001b[39mABC):\n",
      "File \u001b[1;32mc:\\Pyhton\\Anaconda3\\envs\\tenpy\\lib\\site-packages\\cirq_google\\serialization\\__init__.py:27\u001b[0m, in \u001b[0;36m<module>\u001b[1;34m\u001b[0m\n\u001b[0;32m     17\u001b[0m \u001b[39mfrom\u001b[39;00m \u001b[39mcirq_google\u001b[39;00m\u001b[39m.\u001b[39;00m\u001b[39mserialization\u001b[39;00m\u001b[39m.\u001b[39;00m\u001b[39marg_func_langs\u001b[39;00m \u001b[39mimport\u001b[39;00m (\n\u001b[0;32m     18\u001b[0m     arg_from_proto,\n\u001b[0;32m     19\u001b[0m )\n\u001b[0;32m     22\u001b[0m \u001b[39mfrom\u001b[39;00m \u001b[39mcirq_google\u001b[39;00m\u001b[39m.\u001b[39;00m\u001b[39mserialization\u001b[39;00m\u001b[39m.\u001b[39;00m\u001b[39mcircuit_serializer\u001b[39;00m \u001b[39mimport\u001b[39;00m (\n\u001b[0;32m     23\u001b[0m     CircuitSerializer,\n\u001b[0;32m     24\u001b[0m     CIRCUIT_SERIALIZER,\n\u001b[0;32m     25\u001b[0m )\n\u001b[1;32m---> 27\u001b[0m \u001b[39mfrom\u001b[39;00m \u001b[39mcirq_google\u001b[39;00m\u001b[39m.\u001b[39;00m\u001b[39mserialization\u001b[39;00m\u001b[39m.\u001b[39;00m\u001b[39mgate_sets\u001b[39;00m \u001b[39mimport\u001b[39;00m (\n\u001b[0;32m     28\u001b[0m     XMON,\n\u001b[0;32m     29\u001b[0m     FSIM_GATESET,\n\u001b[0;32m     30\u001b[0m     SQRT_ISWAP_GATESET,\n\u001b[0;32m     31\u001b[0m     SYC_GATESET,\n\u001b[0;32m     32\u001b[0m     NAMED_GATESETS,\n\u001b[0;32m     33\u001b[0m )\n\u001b[0;32m     35\u001b[0m \u001b[39mfrom\u001b[39;00m \u001b[39mcirq_google\u001b[39;00m\u001b[39m.\u001b[39;00m\u001b[39mserialization\u001b[39;00m\u001b[39m.\u001b[39;00m\u001b[39mop_deserializer\u001b[39;00m \u001b[39mimport\u001b[39;00m (\n\u001b[0;32m     36\u001b[0m     CircuitOpDeserializer,\n\u001b[0;32m     37\u001b[0m     DeserializingArg,\n\u001b[0;32m     38\u001b[0m     GateOpDeserializer,\n\u001b[0;32m     39\u001b[0m )\n\u001b[0;32m     41\u001b[0m \u001b[39mfrom\u001b[39;00m \u001b[39mcirq_google\u001b[39;00m\u001b[39m.\u001b[39;00m\u001b[39mserialization\u001b[39;00m\u001b[39m.\u001b[39;00m\u001b[39mop_serializer\u001b[39;00m \u001b[39mimport\u001b[39;00m (\n\u001b[0;32m     42\u001b[0m     CircuitOpSerializer,\n\u001b[0;32m     43\u001b[0m     GateOpSerializer,\n\u001b[0;32m     44\u001b[0m     SerializingArg,\n\u001b[0;32m     45\u001b[0m )\n",
      "File \u001b[1;32mc:\\Pyhton\\Anaconda3\\envs\\tenpy\\lib\\site-packages\\cirq_google\\serialization\\gate_sets.py:16\u001b[0m, in \u001b[0;36m<module>\u001b[1;34m\u001b[0m\n\u001b[0;32m     14\u001b[0m \u001b[39m\"\"\"Gate sets supported by Google's apis.\"\"\"\u001b[39;00m\n\u001b[0;32m     15\u001b[0m \u001b[39mfrom\u001b[39;00m \u001b[39mcirq\u001b[39;00m\u001b[39m.\u001b[39;00m\u001b[39m_doc\u001b[39;00m \u001b[39mimport\u001b[39;00m document\n\u001b[1;32m---> 16\u001b[0m \u001b[39mfrom\u001b[39;00m \u001b[39mcirq_google\u001b[39;00m\u001b[39m.\u001b[39;00m\u001b[39mserialization\u001b[39;00m \u001b[39mimport\u001b[39;00m serializable_gate_set\n\u001b[0;32m     17\u001b[0m \u001b[39mfrom\u001b[39;00m \u001b[39mcirq_google\u001b[39;00m\u001b[39m.\u001b[39;00m\u001b[39mserialization\u001b[39;00m\u001b[39m.\u001b[39;00m\u001b[39mcommon_serializers\u001b[39;00m \u001b[39mimport\u001b[39;00m (\n\u001b[0;32m     18\u001b[0m     SINGLE_QUBIT_SERIALIZERS,\n\u001b[0;32m     19\u001b[0m     SINGLE_QUBIT_DESERIALIZERS,\n\u001b[1;32m   (...)\u001b[0m\n\u001b[0;32m     37\u001b[0m     CIRCUIT_OP_DESERIALIZER,\n\u001b[0;32m     38\u001b[0m )\n\u001b[0;32m     40\u001b[0m SYC_GATESET \u001b[39m=\u001b[39m serializable_gate_set\u001b[39m.\u001b[39mSerializableGateSet(\n\u001b[0;32m     41\u001b[0m     gate_set_name\u001b[39m=\u001b[39m\u001b[39m'\u001b[39m\u001b[39msycamore\u001b[39m\u001b[39m'\u001b[39m,\n\u001b[0;32m     42\u001b[0m     serializers\u001b[39m=\u001b[39m[\n\u001b[1;32m   (...)\u001b[0m\n\u001b[0;32m     57\u001b[0m     ],\n\u001b[0;32m     58\u001b[0m )\n",
      "File \u001b[1;32mc:\\Pyhton\\Anaconda3\\envs\\tenpy\\lib\\site-packages\\cirq_google\\serialization\\serializable_gate_set.py:33\u001b[0m, in \u001b[0;36m<module>\u001b[1;34m\u001b[0m\n\u001b[0;32m     29\u001b[0m \u001b[39mfrom\u001b[39;00m \u001b[39mcirq_google\u001b[39;00m\u001b[39m.\u001b[39;00m\u001b[39mapi\u001b[39;00m \u001b[39mimport\u001b[39;00m v2\n\u001b[0;32m     30\u001b[0m \u001b[39mfrom\u001b[39;00m \u001b[39mcirq_google\u001b[39;00m\u001b[39m.\u001b[39;00m\u001b[39mserialization\u001b[39;00m \u001b[39mimport\u001b[39;00m serializer, op_deserializer, op_serializer, arg_func_langs\n\u001b[1;32m---> 33\u001b[0m \u001b[39mclass\u001b[39;00m \u001b[39mSerializableGateSet\u001b[39;00m(serializer\u001b[39m.\u001b[39mSerializer):\n\u001b[0;32m     34\u001b[0m     \u001b[39m\"\"\"A class for serializing and deserializing programs and operations.\u001b[39;00m\n\u001b[0;32m     35\u001b[0m \n\u001b[0;32m     36\u001b[0m \u001b[39m    This class is for cirq_google.api.v2 protos.\u001b[39;00m\n\u001b[0;32m     37\u001b[0m \u001b[39m    \"\"\"\u001b[39;00m\n\u001b[0;32m     39\u001b[0m     \u001b[39mdef\u001b[39;00m \u001b[39m__init__\u001b[39m(\n\u001b[0;32m     40\u001b[0m         \u001b[39mself\u001b[39m,\n\u001b[0;32m     41\u001b[0m         gate_set_name: \u001b[39mstr\u001b[39m,\n\u001b[0;32m     42\u001b[0m         serializers: Iterable[op_serializer\u001b[39m.\u001b[39mOpSerializer],\n\u001b[0;32m     43\u001b[0m         deserializers: Iterable[op_deserializer\u001b[39m.\u001b[39mOpDeserializer],\n\u001b[0;32m     44\u001b[0m     ):\n",
      "File \u001b[1;32mc:\\Pyhton\\Anaconda3\\envs\\tenpy\\lib\\site-packages\\cirq_google\\serialization\\serializable_gate_set.py:278\u001b[0m, in \u001b[0;36mSerializableGateSet\u001b[1;34m()\u001b[0m\n\u001b[0;32m    273\u001b[0m             \u001b[39mreturn\u001b[39;00m proto_msg\n\u001b[0;32m    274\u001b[0m     \u001b[39mraise\u001b[39;00m \u001b[39mValueError\u001b[39;00m(\u001b[39mf\u001b[39m\u001b[39m'\u001b[39m\u001b[39mCannot serialize CircuitOperation \u001b[39m\u001b[39m{\u001b[39;00mop\u001b[39m!r}\u001b[39;00m\u001b[39m'\u001b[39m)\n\u001b[0;32m    276\u001b[0m \u001b[39m@cirq\u001b[39m\u001b[39m.\u001b[39m_compat\u001b[39m.\u001b[39mdeprecated_parameter(\n\u001b[0;32m    277\u001b[0m     deadline\u001b[39m=\u001b[39m\u001b[39m'\u001b[39m\u001b[39mv0.15\u001b[39m\u001b[39m'\u001b[39m,\n\u001b[1;32m--> 278\u001b[0m     fix\u001b[39m=\u001b[39mcirq\u001b[39m.\u001b[39;49mcircuits\u001b[39m.\u001b[39;49mcircuit\u001b[39m.\u001b[39;49m_DEVICE_DEP_MESSAGE,\n\u001b[0;32m    279\u001b[0m     parameter_desc\u001b[39m=\u001b[39m\u001b[39m'\u001b[39m\u001b[39mdevice\u001b[39m\u001b[39m'\u001b[39m,\n\u001b[0;32m    280\u001b[0m     match\u001b[39m=\u001b[39m\u001b[39mlambda\u001b[39;00m args, kwargs: \u001b[39m'\u001b[39m\u001b[39mdevice\u001b[39m\u001b[39m'\u001b[39m \u001b[39min\u001b[39;00m kwargs \u001b[39mor\u001b[39;00m \u001b[39mlen\u001b[39m(args) \u001b[39m>\u001b[39m \u001b[39m2\u001b[39m,\n\u001b[0;32m    281\u001b[0m )\n\u001b[0;32m    282\u001b[0m \u001b[39mdef\u001b[39;00m \u001b[39mdeserialize\u001b[39m(\n\u001b[0;32m    283\u001b[0m     \u001b[39mself\u001b[39m, proto: v2\u001b[39m.\u001b[39mprogram_pb2\u001b[39m.\u001b[39mProgram, device: Optional[cirq\u001b[39m.\u001b[39mDevice] \u001b[39m=\u001b[39m \u001b[39mNone\u001b[39;00m\n\u001b[0;32m    284\u001b[0m ) \u001b[39m-\u001b[39m\u001b[39m>\u001b[39m cirq\u001b[39m.\u001b[39mCircuit:\n\u001b[0;32m    285\u001b[0m     \u001b[39m\"\"\"Deserialize a Circuit from a cirq_google.api.v2.Program.\u001b[39;00m\n\u001b[0;32m    286\u001b[0m \n\u001b[0;32m    287\u001b[0m \u001b[39m    Args:\u001b[39;00m\n\u001b[1;32m   (...)\u001b[0m\n\u001b[0;32m    300\u001b[0m \u001b[39m        NotImplementedError: If the program does not contain a circuit or schedule.\u001b[39;00m\n\u001b[0;32m    301\u001b[0m \u001b[39m    \"\"\"\u001b[39;00m\n\u001b[0;32m    302\u001b[0m     \u001b[39mif\u001b[39;00m \u001b[39mnot\u001b[39;00m proto\u001b[39m.\u001b[39mHasField(\u001b[39m'\u001b[39m\u001b[39mlanguage\u001b[39m\u001b[39m'\u001b[39m) \u001b[39mor\u001b[39;00m \u001b[39mnot\u001b[39;00m proto\u001b[39m.\u001b[39mlanguage\u001b[39m.\u001b[39mgate_set:\n",
      "\u001b[1;31mAttributeError\u001b[0m: module 'cirq.circuits.circuit' has no attribute '_DEVICE_DEP_MESSAGE'"
     ]
    }
   ],
   "source": [
    "import numpy as np\n",
    "import scipy\n",
    "import cirq\n",
    "import matplotlib.pyplot as plt\n",
    "import cirq_google\n",
    "import qsimcirq"
   ]
  },
  {
   "cell_type": "markdown",
   "metadata": {},
   "source": [
    "## Google quantum AI - Cirq\n",
    "\n",
    "I will use this program to try out some functionalities of the Google quantum AI Cirq package. I will try to implement the basic multiplication circuit $\\ket{h}\\ket{g} \\rightarrow \\ket{h}\\ket{hg}$ for the quaternions and for D4 and use the 'quantum virtual machine' simulator."
   ]
  },
  {
   "cell_type": "code",
<<<<<<< HEAD
   "execution_count": null,
=======
<<<<<<< HEAD
   "execution_count": 7,
=======
   "execution_count": 9,
>>>>>>> a73a15f96bffd22c5810fc2be5e9acfe93072078
>>>>>>> dfa0bb34306536c66ee1db53d413cddb2c194a6b
   "metadata": {},
   "outputs": [
    {
     "ename": "",
     "evalue": "",
     "output_type": "error",
     "traceback": [
<<<<<<< HEAD
      "\u001b[1;31mFailed to start the Kernel. \n",
      "OSError: [WinError 123] The filename, directory name, or volume label syntax is incorrect: '\"c:'. \n",
      "View Jupyter <a href='command:jupyter.viewOutput'>log</a> for further details."
=======
<<<<<<< HEAD
      "\u001b[0;31m---------------------------------------------------------------------------\u001b[0m",
      "\u001b[0;31mNameError\u001b[0m                                 Traceback (most recent call last)",
      "\u001b[0;32m/var/folders/jp/3pg31pr14qv9d64r8h1jy0mc0000gn/T/ipykernel_22283/167254949.py\u001b[0m in \u001b[0;36m<module>\u001b[0;34m\u001b[0m\n\u001b[1;32m      1\u001b[0m \u001b[0;31m# qsim test\u001b[0m\u001b[0;34m\u001b[0m\u001b[0;34m\u001b[0m\u001b[0;34m\u001b[0m\u001b[0m\n\u001b[1;32m      2\u001b[0m \u001b[0;34m\u001b[0m\u001b[0m\n\u001b[0;32m----> 3\u001b[0;31m \u001b[0msim\u001b[0m \u001b[0;34m=\u001b[0m \u001b[0mqsimcirq\u001b[0m\u001b[0;34m.\u001b[0m\u001b[0mQSimSimulator\u001b[0m\u001b[0;34m(\u001b[0m\u001b[0mnoise\u001b[0m\u001b[0;34m=\u001b[0m\u001b[0mnoise_model\u001b[0m\u001b[0;34m)\u001b[0m\u001b[0;34m\u001b[0m\u001b[0;34m\u001b[0m\u001b[0m\n\u001b[0m",
      "\u001b[0;31mNameError\u001b[0m: name 'qsimcirq' is not defined"
=======
      "\u001b[1;31m---------------------------------------------------------------------------\u001b[0m",
      "\u001b[1;31mNameError\u001b[0m                                 Traceback (most recent call last)",
      "\u001b[1;32mC:\\Users\\JOVANO~1\\AppData\\Local\\Temp/ipykernel_24544/167254949.py\u001b[0m in \u001b[0;36m<module>\u001b[1;34m\u001b[0m\n\u001b[0;32m      1\u001b[0m \u001b[1;31m# qsim test\u001b[0m\u001b[1;33m\u001b[0m\u001b[1;33m\u001b[0m\u001b[0m\n\u001b[0;32m      2\u001b[0m \u001b[1;33m\u001b[0m\u001b[0m\n\u001b[1;32m----> 3\u001b[1;33m \u001b[0msim\u001b[0m \u001b[1;33m=\u001b[0m \u001b[0mqsimcirq\u001b[0m\u001b[1;33m.\u001b[0m\u001b[0mQSimSimulator\u001b[0m\u001b[1;33m(\u001b[0m\u001b[0mnoise\u001b[0m\u001b[1;33m=\u001b[0m\u001b[0mnoise_model\u001b[0m\u001b[1;33m)\u001b[0m\u001b[1;33m\u001b[0m\u001b[1;33m\u001b[0m\u001b[0m\n\u001b[0m",
      "\u001b[1;31mNameError\u001b[0m: name 'noise_model' is not defined"
>>>>>>> a73a15f96bffd22c5810fc2be5e9acfe93072078
>>>>>>> dfa0bb34306536c66ee1db53d413cddb2c194a6b
     ]
    }
   ],
   "source": [
    "# qsim test\n",
    "\n",
    "sim = qsimcirq.QSimSimulator(noise=noise_model)\n"
   ]
  },
  {
   "cell_type": "code",
   "execution_count": null,
   "metadata": {},
   "outputs": [
    {
     "ename": "",
     "evalue": "",
     "output_type": "error",
     "traceback": [
      "\u001b[1;31mFailed to start the Kernel. \n",
      "OSError: [WinError 123] The filename, directory name, or volume label syntax is incorrect: '\"c:'. \n",
      "View Jupyter <a href='command:jupyter.viewOutput'>log</a> for further details."
     ]
    }
   ],
   "source": [
    "# Quaternion multiplication\n",
    "\n",
    "h_a2, h_a, h_b = [cirq.GridQubit(i,0) for i in range(3)]\n",
    "g_a2, g_a, g_b = [cirq.GridQubit(i,1) for i in range(3)]\n",
    "\n",
    "Q_premult = cirq.Circuit()\n",
    "Q_premult.append([cirq.TOFFOLI(h_b,g_a,g_a2),\n",
    "                  cirq.TOFFOLI(h_a,g_a,g_a2),\n",
    "                  cirq.TOFFOLI(h_b,g_b,g_a2),\n",
    "                  cirq.Moment(cirq.CNOT(h_a,g_a),\n",
    "                  cirq.CNOT(h_a2,g_a2),\n",
    "                  cirq.CNOT(h_b,g_b))\n",
    "\n",
    "])\n",
    "\n",
    "print(Q_premult)\n"
   ]
  },
  {
   "cell_type": "code",
   "execution_count": null,
   "metadata": {},
   "outputs": [
    {
     "ename": "",
     "evalue": "",
     "output_type": "error",
     "traceback": [
      "\u001b[1;31mFailed to start the Kernel. \n",
      "OSError: [WinError 123] The filename, directory name, or volume label syntax is incorrect: '\"c:'. \n",
      "View Jupyter <a href='command:jupyter.viewOutput'>log</a> for further details."
     ]
    }
   ],
   "source": [
    "# D4 multiplication\n",
    "\n",
    "h_m, h_R2, h_R = [cirq.GridQubit(i,0) for i in range(3)]\n",
    "g_m, g_R2, g_R = [cirq.GridQubit(i,1) for i in range(3)]\n",
    "\n",
    "D_premult = cirq.Circuit()\n",
    "D_premult.append([cirq.H(h_R),\n",
    "                  cirq.TOFFOLI(h_R,g_m,g_R2),\n",
    "                  cirq.TOFFOLI(h_R,g_R,g_R2),\n",
    "                  cirq.Moment(cirq.CNOT(h_m,g_m),\n",
    "                              cirq.CNOT(h_R2,g_R2),\n",
    "                              cirq.CNOT(h_R,g_R)),\n",
    "                  cirq.measure(g_R, key='out')\n",
    "\n",
    "])\n",
    "\n",
    "print(D_premult)"
   ]
  },
  {
   "cell_type": "code",
   "execution_count": null,
   "metadata": {},
   "outputs": [
    {
     "ename": "",
     "evalue": "",
     "output_type": "error",
     "traceback": [
      "\u001b[1;31mFailed to start the Kernel. \n",
      "OSError: [WinError 123] The filename, directory name, or volume label syntax is incorrect: '\"c:'. \n",
      "View Jupyter <a href='command:jupyter.viewOutput'>log</a> for further details."
     ]
    }
   ],
   "source": [
    "# 'perfect' simulation with D4 multiplication\n",
    "\n",
    "simulator = cirq.Simulator()\n",
    "results = simulator.run(D_premult,repetitions=100)\n",
    "print(results)\n",
    "print(results.histogram(key='out'))\n",
    "\n"
   ]
  }
 ],
 "metadata": {
  "kernelspec": {
   "display_name": "Python 3.9.4 ('tenpy')",
   "language": "python",
   "name": "python3"
  },
  "language_info": {
   "codemirror_mode": {
    "name": "ipython",
    "version": 3
   },
   "file_extension": ".py",
   "mimetype": "text/x-python",
   "name": "python",
   "nbconvert_exporter": "python",
   "pygments_lexer": "ipython3",
<<<<<<< HEAD
   "version": "3.9.4"
=======
<<<<<<< HEAD
   "version": "3.7.10"
=======
   "version": "3.9.7"
>>>>>>> a73a15f96bffd22c5810fc2be5e9acfe93072078
>>>>>>> dfa0bb34306536c66ee1db53d413cddb2c194a6b
  },
  "orig_nbformat": 4,
  "vscode": {
   "interpreter": {
    "hash": "aff721162324b20ef4a196ba142be7336868ca9b8e2100737af6517b9c37af81"
   }
  }
 },
 "nbformat": 4,
 "nbformat_minor": 2
}
