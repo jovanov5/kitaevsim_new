{
 "cells": [
  {
   "cell_type": "code",
   "execution_count": 1,
   "metadata": {},
   "outputs": [],
   "source": [
    "import numpy as np\n",
    "import cirq\n",
    "from cirq import H, CNOT, X\n",
    "import matplotlib.pyplot as plt"
   ]
  },
  {
   "cell_type": "markdown",
   "metadata": {},
   "source": [
    "## Flux fusion model on a 3 edge triangular lattice\n",
    "\n",
    "Quantum circuit model to measure flux fusion, on a triangular lattice. Use group $D_4$ and the conjugacy class $\\{ m, mR^{2} \\}$. 9 qubits are used to represent the 3 edges and 2 ancillas for the conjugacy class. The circuit prepares the ground state $\\sum_g \\ket{ggg}$ and multiplies the conjugacy class into two adjacent edges. We would then want to measure charges with a 'classical shadow' protocol."
   ]
  },
  {
   "cell_type": "code",
   "execution_count": 2,
   "metadata": {},
   "outputs": [
    {
     "name": "stdout",
     "output_type": "stream",
     "text": [
      "           ┌───┐   ┌────┐\n",
      "0: ────H────@───────@───────X───M('final state')───\n",
      "            │       │           │\n",
      "1: ────H────┼@──────┼@──────X───M──────────────────\n",
      "            ││      ││      │   │\n",
      "2: ─────────┼┼@─────┼┼@─────┼───M──────────────────\n",
      "            │││     │││     │   │\n",
      "3: ─────────X┼┼─────┼┼┼X────┼───M──────────────────\n",
      "             ││     │││     │   │\n",
      "4: ──────────X┼─────┼┼┼X────┼───M──────────────────\n",
      "              │     ││││    │   │\n",
      "5: ────H──────X─────┼┼┼┼────┼───M──────────────────\n",
      "                    ││││    │   │\n",
      "6: ─────────────────X┼┼┼────┼───M──────────────────\n",
      "                     │││    │   │\n",
      "7: ──────────────────X┼┼────┼───M──────────────────\n",
      "                      ││    │   │\n",
      "8: ───────────────────X┼────┼───M──────────────────\n",
      "                       │    │\n",
      "9: ────H────@──────────┼────@──────────────────────\n",
      "            │          │\n",
      "10: ────────X──────────@───────────────────────────\n",
      "           └───┘   └────┘\n"
     ]
    }
   ],
   "source": [
    "qubits = cirq.LineQubit.range(11)\n",
    "g1_m, g1_R2, g1_R, g2_m, g2_R2, g2_R, g3_m, g3_R2, g3_R, x1, x2 = qubits\n",
    "\n",
    "fusion = cirq.Circuit()\n",
    "\n",
    "# Prepare ground state\n",
    "fusion.append([\n",
    "    H(g1_m),\n",
    "    H(g1_R2),\n",
    "    H(g2_R)\n",
    "])\n",
    "\n",
    "fusion.append([\n",
    "    CNOT(g1_m,g2_m),\n",
    "    CNOT(g1_m,g3_m),\n",
    "    CNOT(g1_R2,g2_R2),\n",
    "    CNOT(g1_R2,g3_R2),\n",
    "    CNOT(g1_R,g2_R),\n",
    "    CNOT(g1_R,g3_R),\n",
    "])\n",
    "\n",
    "# Prepare the ancilla in the superposition of the conjugacy class and multiply onto g1 and g2\n",
    "\n",
    "fusion.append([\n",
    "    H(x1),\n",
    "    H(x2)\n",
    "])\n",
    "\n",
    "fusion.append([\n",
    "    CNOT(x1,g1_R2),\n",
    "    X(g1_m),\n",
    "\n",
    "    CNOT(x2,g2_R2),\n",
    "    X(g2_m)\n",
    "])\n",
    "\n",
    "# measure all three qubits\n",
    "\n",
    "fusion.append(cirq.measure(g1_m, g1_R2, g1_R, g2_m, g2_R2, g2_R, g3_m, g3_R2, g3_R,key='final state'))\n",
    "\n",
    "print(fusion)"
   ]
  },
  {
   "cell_type": "code",
   "execution_count": 44,
   "metadata": {},
   "outputs": [
    {
     "name": "stderr",
     "output_type": "stream",
     "text": [
      "/Users/DaanTimmers/anaconda3/lib/python3.7/site-packages/cirq/vis/state_histogram.py:103: UserWarning: Matplotlib is currently using module://matplotlib_inline.backend_inline, which is a non-GUI backend, so cannot show the figure.\n",
      "  fig.show()\n"
     ]
    },
    {
     "data": {
      "image/png": "[encoded data removed]",
      "text/plain": [
       "<Figure size 720x288 with 1 Axes>"
      ]
     },
     "metadata": {
      "needs_background": "light"
     },
     "output_type": "display_data"
    }
   ],
   "source": [
    "# Run measurement simulation\n",
    "\n",
    "simulator = cirq.Simulator()\n",
    "results = simulator.run(fusion,repetitions=10000)\n",
    "\n",
    "ax = cirq.plot_state_histogram(results.histogram(key='final state'))\n",
    "ax.get_xaxis().set_ticks([])\n",
    "plt.gcf().set_size_inches(10, 4)\n",
    "plt.show(ax)"
   ]
  }
 ],
 "metadata": {
  "kernelspec": {
   "display_name": "Python 3.7.10 ('base')",
   "language": "python",
   "name": "python3"
  },
  "language_info": {
   "codemirror_mode": {
    "name": "ipython",
    "version": 3
   },
   "file_extension": ".py",
   "mimetype": "text/x-python",
   "name": "python",
   "nbconvert_exporter": "python",
   "pygments_lexer": "ipython3",
   "version": "3.7.10"
  },
  "orig_nbformat": 4,
  "vscode": {
   "interpreter": {
    "hash": "c14d112fde1918c7d4bab182e09a215b6c8b04c23366deecb76389864398d637"
   }
  }
 },
 "nbformat": 4,
 "nbformat_minor": 2
}
